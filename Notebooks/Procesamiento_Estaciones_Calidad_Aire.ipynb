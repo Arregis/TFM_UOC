{
 "cells": [
  {
   "cell_type": "code",
   "execution_count": 1,
   "metadata": {
    "ExecuteTime": {
     "end_time": "2021-05-31T21:05:43.630819Z",
     "start_time": "2021-05-31T21:05:42.302644Z"
    }
   },
   "outputs": [],
   "source": [
    "import pandas as pd\n",
    "import numpy as np\n",
    "import matplotlib.pyplot as plt\n",
    "import seaborn as sns\n",
    "from datetime import datetime\n",
    "import pytz\n",
    "import sys\n",
    "\n",
    "## Pandas Settings\n",
    "\n",
    "pd.set_option('display.max_columns', None)\n",
    "pd.set_option('display.max_rows', 100)\n",
    "np.set_printoptions(threshold=sys.maxsize)"
   ]
  },
  {
   "cell_type": "markdown",
   "metadata": {},
   "source": [
    "# Import Data"
   ]
  },
  {
   "cell_type": "code",
   "execution_count": 2,
   "metadata": {
    "ExecuteTime": {
     "end_time": "2021-05-31T21:05:53.102553Z",
     "start_time": "2021-05-31T21:05:43.632366Z"
    }
   },
   "outputs": [
    {
     "data": {
      "text/html": [
       "<div>\n",
       "<style scoped>\n",
       "    .dataframe tbody tr th:only-of-type {\n",
       "        vertical-align: middle;\n",
       "    }\n",
       "\n",
       "    .dataframe tbody tr th {\n",
       "        vertical-align: top;\n",
       "    }\n",
       "\n",
       "    .dataframe thead th {\n",
       "        text-align: right;\n",
       "    }\n",
       "</style>\n",
       "<table border=\"1\" class=\"dataframe\">\n",
       "  <thead>\n",
       "    <tr style=\"text-align: right;\">\n",
       "      <th></th>\n",
       "      <th>CODI EOI</th>\n",
       "      <th>NOM ESTACIO</th>\n",
       "      <th>DATA</th>\n",
       "      <th>MAGNITUD</th>\n",
       "      <th>CONTAMINANT</th>\n",
       "      <th>UNITATS</th>\n",
       "      <th>TIPUS ESTACIO</th>\n",
       "      <th>AREA URBANA</th>\n",
       "      <th>CODI INE</th>\n",
       "      <th>MUNICIPI</th>\n",
       "      <th>CODI COMARCA</th>\n",
       "      <th>NOM COMARCA</th>\n",
       "      <th>01h</th>\n",
       "      <th>02h</th>\n",
       "      <th>03h</th>\n",
       "      <th>04h</th>\n",
       "      <th>05h</th>\n",
       "      <th>06h</th>\n",
       "      <th>07h</th>\n",
       "      <th>08h</th>\n",
       "      <th>09h</th>\n",
       "      <th>10h</th>\n",
       "      <th>11h</th>\n",
       "      <th>12h</th>\n",
       "      <th>13h</th>\n",
       "      <th>14h</th>\n",
       "      <th>15h</th>\n",
       "      <th>16h</th>\n",
       "      <th>17h</th>\n",
       "      <th>18h</th>\n",
       "      <th>19h</th>\n",
       "      <th>20h</th>\n",
       "      <th>21h</th>\n",
       "      <th>22h</th>\n",
       "      <th>23h</th>\n",
       "      <th>24h</th>\n",
       "      <th>ALTITUD</th>\n",
       "      <th>LATITUD</th>\n",
       "      <th>LONGITUD</th>\n",
       "      <th>GEOREFERENCIA</th>\n",
       "    </tr>\n",
       "  </thead>\n",
       "  <tbody>\n",
       "    <tr>\n",
       "      <th>0</th>\n",
       "      <td>43047001</td>\n",
       "      <td>Constantí</td>\n",
       "      <td>07/04/2021</td>\n",
       "      <td>14</td>\n",
       "      <td>O3</td>\n",
       "      <td>µg/m3</td>\n",
       "      <td>industrial</td>\n",
       "      <td>suburban</td>\n",
       "      <td>43047</td>\n",
       "      <td>Constantí</td>\n",
       "      <td>36</td>\n",
       "      <td>Tarragonès</td>\n",
       "      <td>90.0</td>\n",
       "      <td>91.0</td>\n",
       "      <td>96.0</td>\n",
       "      <td>91.0</td>\n",
       "      <td>NaN</td>\n",
       "      <td>NaN</td>\n",
       "      <td>NaN</td>\n",
       "      <td>NaN</td>\n",
       "      <td>NaN</td>\n",
       "      <td>NaN</td>\n",
       "      <td>NaN</td>\n",
       "      <td>NaN</td>\n",
       "      <td>NaN</td>\n",
       "      <td>NaN</td>\n",
       "      <td>NaN</td>\n",
       "      <td>NaN</td>\n",
       "      <td>NaN</td>\n",
       "      <td>NaN</td>\n",
       "      <td>NaN</td>\n",
       "      <td>NaN</td>\n",
       "      <td>NaN</td>\n",
       "      <td>NaN</td>\n",
       "      <td>NaN</td>\n",
       "      <td>NaN</td>\n",
       "      <td>56</td>\n",
       "      <td>41.154930</td>\n",
       "      <td>1.217701</td>\n",
       "      <td>POINT (1.2177014 41.15493)</td>\n",
       "    </tr>\n",
       "    <tr>\n",
       "      <th>1</th>\n",
       "      <td>8101001</td>\n",
       "      <td>L'Hospitalet de Llobregat</td>\n",
       "      <td>07/04/2021</td>\n",
       "      <td>12</td>\n",
       "      <td>NOX</td>\n",
       "      <td>µg/m3</td>\n",
       "      <td>background</td>\n",
       "      <td>urban</td>\n",
       "      <td>8101</td>\n",
       "      <td>Hospitalet de Llobregat, l'</td>\n",
       "      <td>13</td>\n",
       "      <td>Barcelonès</td>\n",
       "      <td>10.0</td>\n",
       "      <td>7.0</td>\n",
       "      <td>4.0</td>\n",
       "      <td>6.0</td>\n",
       "      <td>NaN</td>\n",
       "      <td>NaN</td>\n",
       "      <td>NaN</td>\n",
       "      <td>NaN</td>\n",
       "      <td>NaN</td>\n",
       "      <td>NaN</td>\n",
       "      <td>NaN</td>\n",
       "      <td>NaN</td>\n",
       "      <td>NaN</td>\n",
       "      <td>NaN</td>\n",
       "      <td>NaN</td>\n",
       "      <td>NaN</td>\n",
       "      <td>NaN</td>\n",
       "      <td>NaN</td>\n",
       "      <td>NaN</td>\n",
       "      <td>NaN</td>\n",
       "      <td>NaN</td>\n",
       "      <td>NaN</td>\n",
       "      <td>NaN</td>\n",
       "      <td>NaN</td>\n",
       "      <td>29</td>\n",
       "      <td>41.370476</td>\n",
       "      <td>2.114999</td>\n",
       "      <td>POINT (2.1149993 41.370476)</td>\n",
       "    </tr>\n",
       "    <tr>\n",
       "      <th>2</th>\n",
       "      <td>8169009</td>\n",
       "      <td>El Prat de Llobregat (Sagnier)</td>\n",
       "      <td>07/04/2021</td>\n",
       "      <td>1</td>\n",
       "      <td>SO2</td>\n",
       "      <td>µg/m3</td>\n",
       "      <td>background</td>\n",
       "      <td>suburban</td>\n",
       "      <td>8169</td>\n",
       "      <td>Prat de Llobregat, el</td>\n",
       "      <td>11</td>\n",
       "      <td>Baix Llobregat</td>\n",
       "      <td>4.0</td>\n",
       "      <td>4.0</td>\n",
       "      <td>4.0</td>\n",
       "      <td>NaN</td>\n",
       "      <td>NaN</td>\n",
       "      <td>NaN</td>\n",
       "      <td>NaN</td>\n",
       "      <td>NaN</td>\n",
       "      <td>NaN</td>\n",
       "      <td>NaN</td>\n",
       "      <td>NaN</td>\n",
       "      <td>NaN</td>\n",
       "      <td>NaN</td>\n",
       "      <td>NaN</td>\n",
       "      <td>NaN</td>\n",
       "      <td>NaN</td>\n",
       "      <td>NaN</td>\n",
       "      <td>NaN</td>\n",
       "      <td>NaN</td>\n",
       "      <td>NaN</td>\n",
       "      <td>NaN</td>\n",
       "      <td>NaN</td>\n",
       "      <td>NaN</td>\n",
       "      <td>NaN</td>\n",
       "      <td>7</td>\n",
       "      <td>41.321774</td>\n",
       "      <td>2.082100</td>\n",
       "      <td>POINT (2.0821 41.321774)</td>\n",
       "    </tr>\n",
       "    <tr>\n",
       "      <th>3</th>\n",
       "      <td>8102005</td>\n",
       "      <td>Igualada</td>\n",
       "      <td>07/04/2021</td>\n",
       "      <td>12</td>\n",
       "      <td>NOX</td>\n",
       "      <td>µg/m3</td>\n",
       "      <td>industrial</td>\n",
       "      <td>suburban</td>\n",
       "      <td>8102</td>\n",
       "      <td>Igualada</td>\n",
       "      <td>6</td>\n",
       "      <td>Anoia</td>\n",
       "      <td>8.0</td>\n",
       "      <td>7.0</td>\n",
       "      <td>3.0</td>\n",
       "      <td>6.0</td>\n",
       "      <td>NaN</td>\n",
       "      <td>NaN</td>\n",
       "      <td>NaN</td>\n",
       "      <td>NaN</td>\n",
       "      <td>NaN</td>\n",
       "      <td>NaN</td>\n",
       "      <td>NaN</td>\n",
       "      <td>NaN</td>\n",
       "      <td>NaN</td>\n",
       "      <td>NaN</td>\n",
       "      <td>NaN</td>\n",
       "      <td>NaN</td>\n",
       "      <td>NaN</td>\n",
       "      <td>NaN</td>\n",
       "      <td>NaN</td>\n",
       "      <td>NaN</td>\n",
       "      <td>NaN</td>\n",
       "      <td>NaN</td>\n",
       "      <td>NaN</td>\n",
       "      <td>NaN</td>\n",
       "      <td>311</td>\n",
       "      <td>41.578400</td>\n",
       "      <td>1.623006</td>\n",
       "      <td>POINT (1.6230061 41.5784)</td>\n",
       "    </tr>\n",
       "    <tr>\n",
       "      <th>4</th>\n",
       "      <td>8019004</td>\n",
       "      <td>Barcelona (Poblenou)</td>\n",
       "      <td>07/04/2021</td>\n",
       "      <td>8</td>\n",
       "      <td>NO2</td>\n",
       "      <td>µg/m3</td>\n",
       "      <td>background</td>\n",
       "      <td>urban</td>\n",
       "      <td>8019</td>\n",
       "      <td>Barcelona</td>\n",
       "      <td>13</td>\n",
       "      <td>Barcelonès</td>\n",
       "      <td>7.0</td>\n",
       "      <td>4.0</td>\n",
       "      <td>7.0</td>\n",
       "      <td>4.0</td>\n",
       "      <td>NaN</td>\n",
       "      <td>NaN</td>\n",
       "      <td>NaN</td>\n",
       "      <td>NaN</td>\n",
       "      <td>NaN</td>\n",
       "      <td>NaN</td>\n",
       "      <td>NaN</td>\n",
       "      <td>NaN</td>\n",
       "      <td>NaN</td>\n",
       "      <td>NaN</td>\n",
       "      <td>NaN</td>\n",
       "      <td>NaN</td>\n",
       "      <td>NaN</td>\n",
       "      <td>NaN</td>\n",
       "      <td>NaN</td>\n",
       "      <td>NaN</td>\n",
       "      <td>NaN</td>\n",
       "      <td>NaN</td>\n",
       "      <td>NaN</td>\n",
       "      <td>NaN</td>\n",
       "      <td>3</td>\n",
       "      <td>41.403880</td>\n",
       "      <td>2.204501</td>\n",
       "      <td>POINT (2.204501 41.40388)</td>\n",
       "    </tr>\n",
       "  </tbody>\n",
       "</table>\n",
       "</div>"
      ],
      "text/plain": [
       "   CODI EOI                     NOM ESTACIO        DATA  MAGNITUD CONTAMINANT  \\\n",
       "0  43047001                       Constantí  07/04/2021        14          O3   \n",
       "1   8101001       L'Hospitalet de Llobregat  07/04/2021        12         NOX   \n",
       "2   8169009  El Prat de Llobregat (Sagnier)  07/04/2021         1         SO2   \n",
       "3   8102005                        Igualada  07/04/2021        12         NOX   \n",
       "4   8019004            Barcelona (Poblenou)  07/04/2021         8         NO2   \n",
       "\n",
       "  UNITATS TIPUS ESTACIO AREA URBANA  CODI INE                     MUNICIPI  \\\n",
       "0   µg/m3    industrial    suburban     43047                    Constantí   \n",
       "1   µg/m3    background       urban      8101  Hospitalet de Llobregat, l'   \n",
       "2   µg/m3    background    suburban      8169        Prat de Llobregat, el   \n",
       "3   µg/m3    industrial    suburban      8102                     Igualada   \n",
       "4   µg/m3    background       urban      8019                    Barcelona   \n",
       "\n",
       "   CODI COMARCA     NOM COMARCA   01h   02h   03h   04h  05h  06h  07h  08h  \\\n",
       "0            36      Tarragonès  90.0  91.0  96.0  91.0  NaN  NaN  NaN  NaN   \n",
       "1            13      Barcelonès  10.0   7.0   4.0   6.0  NaN  NaN  NaN  NaN   \n",
       "2            11  Baix Llobregat   4.0   4.0   4.0   NaN  NaN  NaN  NaN  NaN   \n",
       "3             6           Anoia   8.0   7.0   3.0   6.0  NaN  NaN  NaN  NaN   \n",
       "4            13      Barcelonès   7.0   4.0   7.0   4.0  NaN  NaN  NaN  NaN   \n",
       "\n",
       "   09h  10h  11h  12h  13h  14h  15h  16h  17h  18h  19h  20h  21h  22h  23h  \\\n",
       "0  NaN  NaN  NaN  NaN  NaN  NaN  NaN  NaN  NaN  NaN  NaN  NaN  NaN  NaN  NaN   \n",
       "1  NaN  NaN  NaN  NaN  NaN  NaN  NaN  NaN  NaN  NaN  NaN  NaN  NaN  NaN  NaN   \n",
       "2  NaN  NaN  NaN  NaN  NaN  NaN  NaN  NaN  NaN  NaN  NaN  NaN  NaN  NaN  NaN   \n",
       "3  NaN  NaN  NaN  NaN  NaN  NaN  NaN  NaN  NaN  NaN  NaN  NaN  NaN  NaN  NaN   \n",
       "4  NaN  NaN  NaN  NaN  NaN  NaN  NaN  NaN  NaN  NaN  NaN  NaN  NaN  NaN  NaN   \n",
       "\n",
       "   24h  ALTITUD    LATITUD  LONGITUD                GEOREFERENCIA  \n",
       "0  NaN       56  41.154930  1.217701   POINT (1.2177014 41.15493)  \n",
       "1  NaN       29  41.370476  2.114999  POINT (2.1149993 41.370476)  \n",
       "2  NaN        7  41.321774  2.082100     POINT (2.0821 41.321774)  \n",
       "3  NaN      311  41.578400  1.623006    POINT (1.6230061 41.5784)  \n",
       "4  NaN        3  41.403880  2.204501    POINT (2.204501 41.40388)  "
      ]
     },
     "execution_count": 2,
     "metadata": {},
     "output_type": "execute_result"
    }
   ],
   "source": [
    "df=pd.read_csv('../Datos/Calidad_Aire/Qualitat_aire.csv')\n",
    "df.head()"
   ]
  },
  {
   "cell_type": "markdown",
   "metadata": {},
   "source": [
    "# Filter Data"
   ]
  },
  {
   "cell_type": "markdown",
   "metadata": {},
   "source": [
    "## Filtrar Comarcas"
   ]
  },
  {
   "cell_type": "markdown",
   "metadata": {},
   "source": [
    "Listar todas las comarcas:"
   ]
  },
  {
   "cell_type": "code",
   "execution_count": 3,
   "metadata": {
    "ExecuteTime": {
     "end_time": "2021-05-31T21:05:53.290059Z",
     "start_time": "2021-05-31T21:05:53.102553Z"
    },
    "scrolled": true
   },
   "outputs": [
    {
     "data": {
      "text/plain": [
       "array(['Tarragonès', 'Barcelonès', 'Baix Llobregat', 'Anoia',\n",
       "       'Vallès Occidental', 'Cerdanya', 'Pallars Jussà', 'Baix Camp',\n",
       "       'Garraf', 'Osona', 'Vallès Oriental', 'Segrià', 'Gironès',\n",
       "       'Garrigues', 'Maresme', 'Alt Penedès', 'Montsià', 'Pallars Sobirà',\n",
       "       'Berguedà', 'Ribera d¿Ebre', 'Alt Camp', 'Garrotxa', 'Bages',\n",
       "       'Baix Empordà', 'Alt Empordà', 'Ripollès', 'Terra Alta',\n",
       "       'Baix Ebre', 'Noguera', 'Priorat', \"Ribera d'Ebre\"], dtype=object)"
      ]
     },
     "execution_count": 3,
     "metadata": {},
     "output_type": "execute_result"
    }
   ],
   "source": [
    "df['NOM COMARCA'].unique()"
   ]
  },
  {
   "cell_type": "markdown",
   "metadata": {},
   "source": [
    "Filtrar comarca de la AMB - (Valles Occidental?):"
   ]
  },
  {
   "cell_type": "code",
   "execution_count": 4,
   "metadata": {
    "ExecuteTime": {
     "end_time": "2021-05-31T21:05:53.648096Z",
     "start_time": "2021-05-31T21:05:53.292652Z"
    }
   },
   "outputs": [],
   "source": [
    "comarcas=['Barcelonès','Baix Llobregat','Maresme','Vallès Occidental']\n",
    "df2=df.query(\"`NOM COMARCA` in @comarcas\")"
   ]
  },
  {
   "cell_type": "markdown",
   "metadata": {},
   "source": [
    "## Filtrar Fechas"
   ]
  },
  {
   "cell_type": "markdown",
   "metadata": {},
   "source": [
    "Se convierte columna DATA de object a Datetime:"
   ]
  },
  {
   "cell_type": "code",
   "execution_count": 5,
   "metadata": {
    "ExecuteTime": {
     "end_time": "2021-05-31T21:05:53.692479Z",
     "start_time": "2021-05-31T21:05:53.648096Z"
    }
   },
   "outputs": [
    {
     "data": {
      "text/html": [
       "<div>\n",
       "<style scoped>\n",
       "    .dataframe tbody tr th:only-of-type {\n",
       "        vertical-align: middle;\n",
       "    }\n",
       "\n",
       "    .dataframe tbody tr th {\n",
       "        vertical-align: top;\n",
       "    }\n",
       "\n",
       "    .dataframe thead th {\n",
       "        text-align: right;\n",
       "    }\n",
       "</style>\n",
       "<table border=\"1\" class=\"dataframe\">\n",
       "  <thead>\n",
       "    <tr style=\"text-align: right;\">\n",
       "      <th></th>\n",
       "      <th>CODI EOI</th>\n",
       "      <th>NOM ESTACIO</th>\n",
       "      <th>DATA</th>\n",
       "      <th>MAGNITUD</th>\n",
       "      <th>CONTAMINANT</th>\n",
       "      <th>UNITATS</th>\n",
       "      <th>TIPUS ESTACIO</th>\n",
       "      <th>AREA URBANA</th>\n",
       "      <th>CODI INE</th>\n",
       "      <th>MUNICIPI</th>\n",
       "      <th>CODI COMARCA</th>\n",
       "      <th>NOM COMARCA</th>\n",
       "      <th>01h</th>\n",
       "      <th>02h</th>\n",
       "      <th>03h</th>\n",
       "      <th>04h</th>\n",
       "      <th>05h</th>\n",
       "      <th>06h</th>\n",
       "      <th>07h</th>\n",
       "      <th>08h</th>\n",
       "      <th>09h</th>\n",
       "      <th>10h</th>\n",
       "      <th>11h</th>\n",
       "      <th>12h</th>\n",
       "      <th>13h</th>\n",
       "      <th>14h</th>\n",
       "      <th>15h</th>\n",
       "      <th>16h</th>\n",
       "      <th>17h</th>\n",
       "      <th>18h</th>\n",
       "      <th>19h</th>\n",
       "      <th>20h</th>\n",
       "      <th>21h</th>\n",
       "      <th>22h</th>\n",
       "      <th>23h</th>\n",
       "      <th>24h</th>\n",
       "      <th>ALTITUD</th>\n",
       "      <th>LATITUD</th>\n",
       "      <th>LONGITUD</th>\n",
       "      <th>GEOREFERENCIA</th>\n",
       "    </tr>\n",
       "  </thead>\n",
       "  <tbody>\n",
       "    <tr>\n",
       "      <th>1</th>\n",
       "      <td>8101001</td>\n",
       "      <td>L'Hospitalet de Llobregat</td>\n",
       "      <td>07/04/2021</td>\n",
       "      <td>12</td>\n",
       "      <td>NOX</td>\n",
       "      <td>µg/m3</td>\n",
       "      <td>background</td>\n",
       "      <td>urban</td>\n",
       "      <td>8101</td>\n",
       "      <td>Hospitalet de Llobregat, l'</td>\n",
       "      <td>13</td>\n",
       "      <td>Barcelonès</td>\n",
       "      <td>10.0</td>\n",
       "      <td>7.0</td>\n",
       "      <td>4.0</td>\n",
       "      <td>6.0</td>\n",
       "      <td>NaN</td>\n",
       "      <td>NaN</td>\n",
       "      <td>NaN</td>\n",
       "      <td>NaN</td>\n",
       "      <td>NaN</td>\n",
       "      <td>NaN</td>\n",
       "      <td>NaN</td>\n",
       "      <td>NaN</td>\n",
       "      <td>NaN</td>\n",
       "      <td>NaN</td>\n",
       "      <td>NaN</td>\n",
       "      <td>NaN</td>\n",
       "      <td>NaN</td>\n",
       "      <td>NaN</td>\n",
       "      <td>NaN</td>\n",
       "      <td>NaN</td>\n",
       "      <td>NaN</td>\n",
       "      <td>NaN</td>\n",
       "      <td>NaN</td>\n",
       "      <td>NaN</td>\n",
       "      <td>29</td>\n",
       "      <td>41.370476</td>\n",
       "      <td>2.114999</td>\n",
       "      <td>POINT (2.1149993 41.370476)</td>\n",
       "    </tr>\n",
       "    <tr>\n",
       "      <th>2</th>\n",
       "      <td>8169009</td>\n",
       "      <td>El Prat de Llobregat (Sagnier)</td>\n",
       "      <td>07/04/2021</td>\n",
       "      <td>1</td>\n",
       "      <td>SO2</td>\n",
       "      <td>µg/m3</td>\n",
       "      <td>background</td>\n",
       "      <td>suburban</td>\n",
       "      <td>8169</td>\n",
       "      <td>Prat de Llobregat, el</td>\n",
       "      <td>11</td>\n",
       "      <td>Baix Llobregat</td>\n",
       "      <td>4.0</td>\n",
       "      <td>4.0</td>\n",
       "      <td>4.0</td>\n",
       "      <td>NaN</td>\n",
       "      <td>NaN</td>\n",
       "      <td>NaN</td>\n",
       "      <td>NaN</td>\n",
       "      <td>NaN</td>\n",
       "      <td>NaN</td>\n",
       "      <td>NaN</td>\n",
       "      <td>NaN</td>\n",
       "      <td>NaN</td>\n",
       "      <td>NaN</td>\n",
       "      <td>NaN</td>\n",
       "      <td>NaN</td>\n",
       "      <td>NaN</td>\n",
       "      <td>NaN</td>\n",
       "      <td>NaN</td>\n",
       "      <td>NaN</td>\n",
       "      <td>NaN</td>\n",
       "      <td>NaN</td>\n",
       "      <td>NaN</td>\n",
       "      <td>NaN</td>\n",
       "      <td>NaN</td>\n",
       "      <td>7</td>\n",
       "      <td>41.321774</td>\n",
       "      <td>2.082100</td>\n",
       "      <td>POINT (2.0821 41.321774)</td>\n",
       "    </tr>\n",
       "    <tr>\n",
       "      <th>4</th>\n",
       "      <td>8019004</td>\n",
       "      <td>Barcelona (Poblenou)</td>\n",
       "      <td>07/04/2021</td>\n",
       "      <td>8</td>\n",
       "      <td>NO2</td>\n",
       "      <td>µg/m3</td>\n",
       "      <td>background</td>\n",
       "      <td>urban</td>\n",
       "      <td>8019</td>\n",
       "      <td>Barcelona</td>\n",
       "      <td>13</td>\n",
       "      <td>Barcelonès</td>\n",
       "      <td>7.0</td>\n",
       "      <td>4.0</td>\n",
       "      <td>7.0</td>\n",
       "      <td>4.0</td>\n",
       "      <td>NaN</td>\n",
       "      <td>NaN</td>\n",
       "      <td>NaN</td>\n",
       "      <td>NaN</td>\n",
       "      <td>NaN</td>\n",
       "      <td>NaN</td>\n",
       "      <td>NaN</td>\n",
       "      <td>NaN</td>\n",
       "      <td>NaN</td>\n",
       "      <td>NaN</td>\n",
       "      <td>NaN</td>\n",
       "      <td>NaN</td>\n",
       "      <td>NaN</td>\n",
       "      <td>NaN</td>\n",
       "      <td>NaN</td>\n",
       "      <td>NaN</td>\n",
       "      <td>NaN</td>\n",
       "      <td>NaN</td>\n",
       "      <td>NaN</td>\n",
       "      <td>NaN</td>\n",
       "      <td>3</td>\n",
       "      <td>41.403880</td>\n",
       "      <td>2.204501</td>\n",
       "      <td>POINT (2.204501 41.40388)</td>\n",
       "    </tr>\n",
       "    <tr>\n",
       "      <th>5</th>\n",
       "      <td>8019044</td>\n",
       "      <td>Barcelona (Gràcia - Sant Gervasi)</td>\n",
       "      <td>07/04/2021</td>\n",
       "      <td>6</td>\n",
       "      <td>CO</td>\n",
       "      <td>mg/m3</td>\n",
       "      <td>traffic</td>\n",
       "      <td>urban</td>\n",
       "      <td>8019</td>\n",
       "      <td>Barcelona</td>\n",
       "      <td>13</td>\n",
       "      <td>Barcelonès</td>\n",
       "      <td>0.2</td>\n",
       "      <td>0.2</td>\n",
       "      <td>0.2</td>\n",
       "      <td>0.2</td>\n",
       "      <td>NaN</td>\n",
       "      <td>NaN</td>\n",
       "      <td>NaN</td>\n",
       "      <td>NaN</td>\n",
       "      <td>NaN</td>\n",
       "      <td>NaN</td>\n",
       "      <td>NaN</td>\n",
       "      <td>NaN</td>\n",
       "      <td>NaN</td>\n",
       "      <td>NaN</td>\n",
       "      <td>NaN</td>\n",
       "      <td>NaN</td>\n",
       "      <td>NaN</td>\n",
       "      <td>NaN</td>\n",
       "      <td>NaN</td>\n",
       "      <td>NaN</td>\n",
       "      <td>NaN</td>\n",
       "      <td>NaN</td>\n",
       "      <td>NaN</td>\n",
       "      <td>NaN</td>\n",
       "      <td>57</td>\n",
       "      <td>41.398724</td>\n",
       "      <td>2.153399</td>\n",
       "      <td>POINT (2.1533988 41.398724)</td>\n",
       "    </tr>\n",
       "    <tr>\n",
       "      <th>6</th>\n",
       "      <td>8184006</td>\n",
       "      <td>Rubí</td>\n",
       "      <td>07/04/2021</td>\n",
       "      <td>12</td>\n",
       "      <td>NOX</td>\n",
       "      <td>µg/m3</td>\n",
       "      <td>background</td>\n",
       "      <td>urban</td>\n",
       "      <td>8184</td>\n",
       "      <td>Rubí</td>\n",
       "      <td>40</td>\n",
       "      <td>Vallès Occidental</td>\n",
       "      <td>3.0</td>\n",
       "      <td>1.0</td>\n",
       "      <td>2.0</td>\n",
       "      <td>2.0</td>\n",
       "      <td>NaN</td>\n",
       "      <td>NaN</td>\n",
       "      <td>NaN</td>\n",
       "      <td>NaN</td>\n",
       "      <td>NaN</td>\n",
       "      <td>NaN</td>\n",
       "      <td>NaN</td>\n",
       "      <td>NaN</td>\n",
       "      <td>NaN</td>\n",
       "      <td>NaN</td>\n",
       "      <td>NaN</td>\n",
       "      <td>NaN</td>\n",
       "      <td>NaN</td>\n",
       "      <td>NaN</td>\n",
       "      <td>NaN</td>\n",
       "      <td>NaN</td>\n",
       "      <td>NaN</td>\n",
       "      <td>NaN</td>\n",
       "      <td>NaN</td>\n",
       "      <td>NaN</td>\n",
       "      <td>171</td>\n",
       "      <td>41.492115</td>\n",
       "      <td>2.042497</td>\n",
       "      <td>POINT (2.0424972 41.492115)</td>\n",
       "    </tr>\n",
       "  </tbody>\n",
       "</table>\n",
       "</div>"
      ],
      "text/plain": [
       "   CODI EOI                        NOM ESTACIO        DATA  MAGNITUD  \\\n",
       "1   8101001          L'Hospitalet de Llobregat  07/04/2021        12   \n",
       "2   8169009     El Prat de Llobregat (Sagnier)  07/04/2021         1   \n",
       "4   8019004               Barcelona (Poblenou)  07/04/2021         8   \n",
       "5   8019044  Barcelona (Gràcia - Sant Gervasi)  07/04/2021         6   \n",
       "6   8184006                               Rubí  07/04/2021        12   \n",
       "\n",
       "  CONTAMINANT UNITATS TIPUS ESTACIO AREA URBANA  CODI INE  \\\n",
       "1         NOX   µg/m3    background       urban      8101   \n",
       "2         SO2   µg/m3    background    suburban      8169   \n",
       "4         NO2   µg/m3    background       urban      8019   \n",
       "5          CO   mg/m3       traffic       urban      8019   \n",
       "6         NOX   µg/m3    background       urban      8184   \n",
       "\n",
       "                      MUNICIPI  CODI COMARCA        NOM COMARCA   01h  02h  \\\n",
       "1  Hospitalet de Llobregat, l'            13         Barcelonès  10.0  7.0   \n",
       "2        Prat de Llobregat, el            11     Baix Llobregat   4.0  4.0   \n",
       "4                    Barcelona            13         Barcelonès   7.0  4.0   \n",
       "5                    Barcelona            13         Barcelonès   0.2  0.2   \n",
       "6                         Rubí            40  Vallès Occidental   3.0  1.0   \n",
       "\n",
       "   03h  04h  05h  06h  07h  08h  09h  10h  11h  12h  13h  14h  15h  16h  17h  \\\n",
       "1  4.0  6.0  NaN  NaN  NaN  NaN  NaN  NaN  NaN  NaN  NaN  NaN  NaN  NaN  NaN   \n",
       "2  4.0  NaN  NaN  NaN  NaN  NaN  NaN  NaN  NaN  NaN  NaN  NaN  NaN  NaN  NaN   \n",
       "4  7.0  4.0  NaN  NaN  NaN  NaN  NaN  NaN  NaN  NaN  NaN  NaN  NaN  NaN  NaN   \n",
       "5  0.2  0.2  NaN  NaN  NaN  NaN  NaN  NaN  NaN  NaN  NaN  NaN  NaN  NaN  NaN   \n",
       "6  2.0  2.0  NaN  NaN  NaN  NaN  NaN  NaN  NaN  NaN  NaN  NaN  NaN  NaN  NaN   \n",
       "\n",
       "   18h  19h  20h  21h  22h  23h  24h  ALTITUD    LATITUD  LONGITUD  \\\n",
       "1  NaN  NaN  NaN  NaN  NaN  NaN  NaN       29  41.370476  2.114999   \n",
       "2  NaN  NaN  NaN  NaN  NaN  NaN  NaN        7  41.321774  2.082100   \n",
       "4  NaN  NaN  NaN  NaN  NaN  NaN  NaN        3  41.403880  2.204501   \n",
       "5  NaN  NaN  NaN  NaN  NaN  NaN  NaN       57  41.398724  2.153399   \n",
       "6  NaN  NaN  NaN  NaN  NaN  NaN  NaN      171  41.492115  2.042497   \n",
       "\n",
       "                 GEOREFERENCIA  \n",
       "1  POINT (2.1149993 41.370476)  \n",
       "2     POINT (2.0821 41.321774)  \n",
       "4    POINT (2.204501 41.40388)  \n",
       "5  POINT (2.1533988 41.398724)  \n",
       "6  POINT (2.0424972 41.492115)  "
      ]
     },
     "execution_count": 5,
     "metadata": {},
     "output_type": "execute_result"
    }
   ],
   "source": [
    "df2.head()"
   ]
  },
  {
   "cell_type": "code",
   "execution_count": 6,
   "metadata": {
    "ExecuteTime": {
     "end_time": "2021-05-31T21:05:53.872506Z",
     "start_time": "2021-05-31T21:05:53.692479Z"
    }
   },
   "outputs": [
    {
     "name": "stderr",
     "output_type": "stream",
     "text": [
      "<ipython-input-6-6fd2db8d542f>:1: SettingWithCopyWarning: \n",
      "A value is trying to be set on a copy of a slice from a DataFrame.\n",
      "Try using .loc[row_indexer,col_indexer] = value instead\n",
      "\n",
      "See the caveats in the documentation: https://pandas.pydata.org/pandas-docs/stable/user_guide/indexing.html#returning-a-view-versus-a-copy\n",
      "  df2['DATA']= pd.to_datetime(df2['DATA'],format='%d/%m/%Y')\n"
     ]
    }
   ],
   "source": [
    "df2['DATA']= pd.to_datetime(df2['DATA'],format='%d/%m/%Y')"
   ]
  },
  {
   "cell_type": "markdown",
   "metadata": {},
   "source": [
    "Filtrar rango de datos a 2018-Hoy:"
   ]
  },
  {
   "cell_type": "code",
   "execution_count": 7,
   "metadata": {
    "ExecuteTime": {
     "end_time": "2021-05-31T21:05:53.932637Z",
     "start_time": "2021-05-31T21:05:53.872506Z"
    }
   },
   "outputs": [],
   "source": [
    "df3 = df2[(df2['DATA'] >= '01/01/2018')]"
   ]
  },
  {
   "cell_type": "markdown",
   "metadata": {},
   "source": [
    "Quitar Confinamiento/Estado de Alarma"
   ]
  },
  {
   "cell_type": "code",
   "execution_count": 8,
   "metadata": {
    "ExecuteTime": {
     "end_time": "2021-05-31T21:05:53.992511Z",
     "start_time": "2021-05-31T21:05:53.932637Z"
    }
   },
   "outputs": [],
   "source": [
    "ini_conf = '13/03/2020'\n",
    "fin_conf = '21/06/2020'\n",
    "df3 = df3[(df3['DATA'] < ini_conf) | (df3['DATA'] > fin_conf)]"
   ]
  },
  {
   "cell_type": "markdown",
   "metadata": {
    "ExecuteTime": {
     "end_time": "2021-04-07T14:31:04.727175Z",
     "start_time": "2021-04-07T14:31:04.717231Z"
    }
   },
   "source": [
    "## Filtrar Municipios"
   ]
  },
  {
   "cell_type": "markdown",
   "metadata": {},
   "source": [
    "Listar Municipios:"
   ]
  },
  {
   "cell_type": "code",
   "execution_count": 9,
   "metadata": {
    "ExecuteTime": {
     "end_time": "2021-05-31T21:05:54.032740Z",
     "start_time": "2021-05-31T21:05:53.992511Z"
    }
   },
   "outputs": [
    {
     "data": {
      "text/plain": [
       "array([\"Hospitalet de Llobregat, l'\", 'Prat de Llobregat, el',\n",
       "       'Barcelona', 'Rubí', 'Montcada i Reixac',\n",
       "       'Santa Coloma de Gramenet', 'Martorell', 'Badalona',\n",
       "       'Barberà del Vallès', 'Sant Vicenç dels Horts', 'Gavà', 'Mataró',\n",
       "       'Terrassa', 'Pallejà', 'Sant Cugat del Vallès',\n",
       "       'Santa Perpètua de Mogoda', 'Sant Andreu de la Barca',\n",
       "       'Viladecans', 'Sant Adrià de Besòs', 'Sabadell',\n",
       "       'Sant Feliu de Llobregat'], dtype=object)"
      ]
     },
     "execution_count": 9,
     "metadata": {},
     "output_type": "execute_result"
    }
   ],
   "source": [
    "df3.MUNICIPI.unique()"
   ]
  },
  {
   "cell_type": "code",
   "execution_count": 10,
   "metadata": {
    "ExecuteTime": {
     "end_time": "2021-05-31T21:05:54.072771Z",
     "start_time": "2021-05-31T21:05:54.032740Z"
    }
   },
   "outputs": [],
   "source": [
    "municipios=[\"Hospitalet de Llobregat, l'\", 'Prat de Llobregat, el','Barcelona','Montcada i Reixac',\n",
    "            'Santa Coloma de Gramenet','Badalona','Barberà del Vallès', 'Sant Vicenç dels Horts', 'Gavà',\n",
    "            'Barberà del Vallès','Pallejà','Sant Cugat del Vallès','Sant Andreu de la Barca','Viladecans',\n",
    "            'Sant Adrià de Besòs','Sant Feliu de Llobregat']\n",
    "df4=df3.query(\"MUNICIPI in @municipios\")"
   ]
  },
  {
   "cell_type": "code",
   "execution_count": 11,
   "metadata": {
    "ExecuteTime": {
     "end_time": "2021-05-31T21:05:54.112632Z",
     "start_time": "2021-05-31T21:05:54.072771Z"
    }
   },
   "outputs": [
    {
     "data": {
      "text/html": [
       "<div>\n",
       "<style scoped>\n",
       "    .dataframe tbody tr th:only-of-type {\n",
       "        vertical-align: middle;\n",
       "    }\n",
       "\n",
       "    .dataframe tbody tr th {\n",
       "        vertical-align: top;\n",
       "    }\n",
       "\n",
       "    .dataframe thead th {\n",
       "        text-align: right;\n",
       "    }\n",
       "</style>\n",
       "<table border=\"1\" class=\"dataframe\">\n",
       "  <thead>\n",
       "    <tr style=\"text-align: right;\">\n",
       "      <th></th>\n",
       "      <th>CODI EOI</th>\n",
       "      <th>NOM ESTACIO</th>\n",
       "      <th>DATA</th>\n",
       "      <th>MAGNITUD</th>\n",
       "      <th>CONTAMINANT</th>\n",
       "      <th>UNITATS</th>\n",
       "      <th>TIPUS ESTACIO</th>\n",
       "      <th>AREA URBANA</th>\n",
       "      <th>CODI INE</th>\n",
       "      <th>MUNICIPI</th>\n",
       "      <th>CODI COMARCA</th>\n",
       "      <th>NOM COMARCA</th>\n",
       "      <th>01h</th>\n",
       "      <th>02h</th>\n",
       "      <th>03h</th>\n",
       "      <th>04h</th>\n",
       "      <th>05h</th>\n",
       "      <th>06h</th>\n",
       "      <th>07h</th>\n",
       "      <th>08h</th>\n",
       "      <th>09h</th>\n",
       "      <th>10h</th>\n",
       "      <th>11h</th>\n",
       "      <th>12h</th>\n",
       "      <th>13h</th>\n",
       "      <th>14h</th>\n",
       "      <th>15h</th>\n",
       "      <th>16h</th>\n",
       "      <th>17h</th>\n",
       "      <th>18h</th>\n",
       "      <th>19h</th>\n",
       "      <th>20h</th>\n",
       "      <th>21h</th>\n",
       "      <th>22h</th>\n",
       "      <th>23h</th>\n",
       "      <th>24h</th>\n",
       "      <th>ALTITUD</th>\n",
       "      <th>LATITUD</th>\n",
       "      <th>LONGITUD</th>\n",
       "      <th>GEOREFERENCIA</th>\n",
       "    </tr>\n",
       "  </thead>\n",
       "  <tbody>\n",
       "    <tr>\n",
       "      <th>1</th>\n",
       "      <td>8101001</td>\n",
       "      <td>L'Hospitalet de Llobregat</td>\n",
       "      <td>2021-04-07</td>\n",
       "      <td>12</td>\n",
       "      <td>NOX</td>\n",
       "      <td>µg/m3</td>\n",
       "      <td>background</td>\n",
       "      <td>urban</td>\n",
       "      <td>8101</td>\n",
       "      <td>Hospitalet de Llobregat, l'</td>\n",
       "      <td>13</td>\n",
       "      <td>Barcelonès</td>\n",
       "      <td>10.0</td>\n",
       "      <td>7.0</td>\n",
       "      <td>4.0</td>\n",
       "      <td>6.0</td>\n",
       "      <td>NaN</td>\n",
       "      <td>NaN</td>\n",
       "      <td>NaN</td>\n",
       "      <td>NaN</td>\n",
       "      <td>NaN</td>\n",
       "      <td>NaN</td>\n",
       "      <td>NaN</td>\n",
       "      <td>NaN</td>\n",
       "      <td>NaN</td>\n",
       "      <td>NaN</td>\n",
       "      <td>NaN</td>\n",
       "      <td>NaN</td>\n",
       "      <td>NaN</td>\n",
       "      <td>NaN</td>\n",
       "      <td>NaN</td>\n",
       "      <td>NaN</td>\n",
       "      <td>NaN</td>\n",
       "      <td>NaN</td>\n",
       "      <td>NaN</td>\n",
       "      <td>NaN</td>\n",
       "      <td>29</td>\n",
       "      <td>41.370476</td>\n",
       "      <td>2.114999</td>\n",
       "      <td>POINT (2.1149993 41.370476)</td>\n",
       "    </tr>\n",
       "    <tr>\n",
       "      <th>2</th>\n",
       "      <td>8169009</td>\n",
       "      <td>El Prat de Llobregat (Sagnier)</td>\n",
       "      <td>2021-04-07</td>\n",
       "      <td>1</td>\n",
       "      <td>SO2</td>\n",
       "      <td>µg/m3</td>\n",
       "      <td>background</td>\n",
       "      <td>suburban</td>\n",
       "      <td>8169</td>\n",
       "      <td>Prat de Llobregat, el</td>\n",
       "      <td>11</td>\n",
       "      <td>Baix Llobregat</td>\n",
       "      <td>4.0</td>\n",
       "      <td>4.0</td>\n",
       "      <td>4.0</td>\n",
       "      <td>NaN</td>\n",
       "      <td>NaN</td>\n",
       "      <td>NaN</td>\n",
       "      <td>NaN</td>\n",
       "      <td>NaN</td>\n",
       "      <td>NaN</td>\n",
       "      <td>NaN</td>\n",
       "      <td>NaN</td>\n",
       "      <td>NaN</td>\n",
       "      <td>NaN</td>\n",
       "      <td>NaN</td>\n",
       "      <td>NaN</td>\n",
       "      <td>NaN</td>\n",
       "      <td>NaN</td>\n",
       "      <td>NaN</td>\n",
       "      <td>NaN</td>\n",
       "      <td>NaN</td>\n",
       "      <td>NaN</td>\n",
       "      <td>NaN</td>\n",
       "      <td>NaN</td>\n",
       "      <td>NaN</td>\n",
       "      <td>7</td>\n",
       "      <td>41.321774</td>\n",
       "      <td>2.082100</td>\n",
       "      <td>POINT (2.0821 41.321774)</td>\n",
       "    </tr>\n",
       "    <tr>\n",
       "      <th>4</th>\n",
       "      <td>8019004</td>\n",
       "      <td>Barcelona (Poblenou)</td>\n",
       "      <td>2021-04-07</td>\n",
       "      <td>8</td>\n",
       "      <td>NO2</td>\n",
       "      <td>µg/m3</td>\n",
       "      <td>background</td>\n",
       "      <td>urban</td>\n",
       "      <td>8019</td>\n",
       "      <td>Barcelona</td>\n",
       "      <td>13</td>\n",
       "      <td>Barcelonès</td>\n",
       "      <td>7.0</td>\n",
       "      <td>4.0</td>\n",
       "      <td>7.0</td>\n",
       "      <td>4.0</td>\n",
       "      <td>NaN</td>\n",
       "      <td>NaN</td>\n",
       "      <td>NaN</td>\n",
       "      <td>NaN</td>\n",
       "      <td>NaN</td>\n",
       "      <td>NaN</td>\n",
       "      <td>NaN</td>\n",
       "      <td>NaN</td>\n",
       "      <td>NaN</td>\n",
       "      <td>NaN</td>\n",
       "      <td>NaN</td>\n",
       "      <td>NaN</td>\n",
       "      <td>NaN</td>\n",
       "      <td>NaN</td>\n",
       "      <td>NaN</td>\n",
       "      <td>NaN</td>\n",
       "      <td>NaN</td>\n",
       "      <td>NaN</td>\n",
       "      <td>NaN</td>\n",
       "      <td>NaN</td>\n",
       "      <td>3</td>\n",
       "      <td>41.403880</td>\n",
       "      <td>2.204501</td>\n",
       "      <td>POINT (2.204501 41.40388)</td>\n",
       "    </tr>\n",
       "    <tr>\n",
       "      <th>5</th>\n",
       "      <td>8019044</td>\n",
       "      <td>Barcelona (Gràcia - Sant Gervasi)</td>\n",
       "      <td>2021-04-07</td>\n",
       "      <td>6</td>\n",
       "      <td>CO</td>\n",
       "      <td>mg/m3</td>\n",
       "      <td>traffic</td>\n",
       "      <td>urban</td>\n",
       "      <td>8019</td>\n",
       "      <td>Barcelona</td>\n",
       "      <td>13</td>\n",
       "      <td>Barcelonès</td>\n",
       "      <td>0.2</td>\n",
       "      <td>0.2</td>\n",
       "      <td>0.2</td>\n",
       "      <td>0.2</td>\n",
       "      <td>NaN</td>\n",
       "      <td>NaN</td>\n",
       "      <td>NaN</td>\n",
       "      <td>NaN</td>\n",
       "      <td>NaN</td>\n",
       "      <td>NaN</td>\n",
       "      <td>NaN</td>\n",
       "      <td>NaN</td>\n",
       "      <td>NaN</td>\n",
       "      <td>NaN</td>\n",
       "      <td>NaN</td>\n",
       "      <td>NaN</td>\n",
       "      <td>NaN</td>\n",
       "      <td>NaN</td>\n",
       "      <td>NaN</td>\n",
       "      <td>NaN</td>\n",
       "      <td>NaN</td>\n",
       "      <td>NaN</td>\n",
       "      <td>NaN</td>\n",
       "      <td>NaN</td>\n",
       "      <td>57</td>\n",
       "      <td>41.398724</td>\n",
       "      <td>2.153399</td>\n",
       "      <td>POINT (2.1533988 41.398724)</td>\n",
       "    </tr>\n",
       "    <tr>\n",
       "      <th>7</th>\n",
       "      <td>8125013</td>\n",
       "      <td>Montcada i Reixac (Can Sant Joan)</td>\n",
       "      <td>2021-04-07</td>\n",
       "      <td>10</td>\n",
       "      <td>PM10</td>\n",
       "      <td>µg/m3</td>\n",
       "      <td>industrial</td>\n",
       "      <td>suburban</td>\n",
       "      <td>8125</td>\n",
       "      <td>Montcada i Reixac</td>\n",
       "      <td>40</td>\n",
       "      <td>Vallès Occidental</td>\n",
       "      <td>31.0</td>\n",
       "      <td>19.0</td>\n",
       "      <td>14.0</td>\n",
       "      <td>NaN</td>\n",
       "      <td>NaN</td>\n",
       "      <td>NaN</td>\n",
       "      <td>NaN</td>\n",
       "      <td>NaN</td>\n",
       "      <td>NaN</td>\n",
       "      <td>NaN</td>\n",
       "      <td>NaN</td>\n",
       "      <td>NaN</td>\n",
       "      <td>NaN</td>\n",
       "      <td>NaN</td>\n",
       "      <td>NaN</td>\n",
       "      <td>NaN</td>\n",
       "      <td>NaN</td>\n",
       "      <td>NaN</td>\n",
       "      <td>NaN</td>\n",
       "      <td>NaN</td>\n",
       "      <td>NaN</td>\n",
       "      <td>NaN</td>\n",
       "      <td>NaN</td>\n",
       "      <td>NaN</td>\n",
       "      <td>29</td>\n",
       "      <td>41.469826</td>\n",
       "      <td>2.175836</td>\n",
       "      <td>POINT (2.1758358 41.469826)</td>\n",
       "    </tr>\n",
       "  </tbody>\n",
       "</table>\n",
       "</div>"
      ],
      "text/plain": [
       "   CODI EOI                        NOM ESTACIO       DATA  MAGNITUD  \\\n",
       "1   8101001          L'Hospitalet de Llobregat 2021-04-07        12   \n",
       "2   8169009     El Prat de Llobregat (Sagnier) 2021-04-07         1   \n",
       "4   8019004               Barcelona (Poblenou) 2021-04-07         8   \n",
       "5   8019044  Barcelona (Gràcia - Sant Gervasi) 2021-04-07         6   \n",
       "7   8125013  Montcada i Reixac (Can Sant Joan) 2021-04-07        10   \n",
       "\n",
       "  CONTAMINANT UNITATS TIPUS ESTACIO AREA URBANA  CODI INE  \\\n",
       "1         NOX   µg/m3    background       urban      8101   \n",
       "2         SO2   µg/m3    background    suburban      8169   \n",
       "4         NO2   µg/m3    background       urban      8019   \n",
       "5          CO   mg/m3       traffic       urban      8019   \n",
       "7        PM10   µg/m3    industrial    suburban      8125   \n",
       "\n",
       "                      MUNICIPI  CODI COMARCA        NOM COMARCA   01h   02h  \\\n",
       "1  Hospitalet de Llobregat, l'            13         Barcelonès  10.0   7.0   \n",
       "2        Prat de Llobregat, el            11     Baix Llobregat   4.0   4.0   \n",
       "4                    Barcelona            13         Barcelonès   7.0   4.0   \n",
       "5                    Barcelona            13         Barcelonès   0.2   0.2   \n",
       "7            Montcada i Reixac            40  Vallès Occidental  31.0  19.0   \n",
       "\n",
       "    03h  04h  05h  06h  07h  08h  09h  10h  11h  12h  13h  14h  15h  16h  17h  \\\n",
       "1   4.0  6.0  NaN  NaN  NaN  NaN  NaN  NaN  NaN  NaN  NaN  NaN  NaN  NaN  NaN   \n",
       "2   4.0  NaN  NaN  NaN  NaN  NaN  NaN  NaN  NaN  NaN  NaN  NaN  NaN  NaN  NaN   \n",
       "4   7.0  4.0  NaN  NaN  NaN  NaN  NaN  NaN  NaN  NaN  NaN  NaN  NaN  NaN  NaN   \n",
       "5   0.2  0.2  NaN  NaN  NaN  NaN  NaN  NaN  NaN  NaN  NaN  NaN  NaN  NaN  NaN   \n",
       "7  14.0  NaN  NaN  NaN  NaN  NaN  NaN  NaN  NaN  NaN  NaN  NaN  NaN  NaN  NaN   \n",
       "\n",
       "   18h  19h  20h  21h  22h  23h  24h  ALTITUD    LATITUD  LONGITUD  \\\n",
       "1  NaN  NaN  NaN  NaN  NaN  NaN  NaN       29  41.370476  2.114999   \n",
       "2  NaN  NaN  NaN  NaN  NaN  NaN  NaN        7  41.321774  2.082100   \n",
       "4  NaN  NaN  NaN  NaN  NaN  NaN  NaN        3  41.403880  2.204501   \n",
       "5  NaN  NaN  NaN  NaN  NaN  NaN  NaN       57  41.398724  2.153399   \n",
       "7  NaN  NaN  NaN  NaN  NaN  NaN  NaN       29  41.469826  2.175836   \n",
       "\n",
       "                 GEOREFERENCIA  \n",
       "1  POINT (2.1149993 41.370476)  \n",
       "2     POINT (2.0821 41.321774)  \n",
       "4    POINT (2.204501 41.40388)  \n",
       "5  POINT (2.1533988 41.398724)  \n",
       "7  POINT (2.1758358 41.469826)  "
      ]
     },
     "execution_count": 11,
     "metadata": {},
     "output_type": "execute_result"
    }
   ],
   "source": [
    "df4.head()"
   ]
  },
  {
   "cell_type": "markdown",
   "metadata": {},
   "source": [
    "## Identificacion Contaminantes - Estación"
   ]
  },
  {
   "cell_type": "markdown",
   "metadata": {},
   "source": [
    "Filtrado 1:"
   ]
  },
  {
   "cell_type": "code",
   "execution_count": 12,
   "metadata": {
    "ExecuteTime": {
     "end_time": "2021-05-31T21:05:54.202598Z",
     "start_time": "2021-05-31T21:05:54.112632Z"
    }
   },
   "outputs": [],
   "source": [
    "df_est=df4[['CODI EOI','NOM ESTACIO','CONTAMINANT','TIPUS ESTACIO',\n",
    "            'AREA URBANA','ALTITUD','LATITUD','LONGITUD','GEOREFERENCIA']].drop_duplicates().reset_index(drop=False)"
   ]
  },
  {
   "cell_type": "markdown",
   "metadata": {},
   "source": [
    "Filtrado para identificar contaminantes de cada estación:"
   ]
  },
  {
   "cell_type": "code",
   "execution_count": 13,
   "metadata": {
    "ExecuteTime": {
     "end_time": "2021-05-31T21:05:54.222839Z",
     "start_time": "2021-05-31T21:05:54.202598Z"
    },
    "scrolled": true
   },
   "outputs": [
    {
     "data": {
      "text/html": [
       "<div>\n",
       "<style scoped>\n",
       "    .dataframe tbody tr th:only-of-type {\n",
       "        vertical-align: middle;\n",
       "    }\n",
       "\n",
       "    .dataframe tbody tr th {\n",
       "        vertical-align: top;\n",
       "    }\n",
       "\n",
       "    .dataframe thead th {\n",
       "        text-align: right;\n",
       "    }\n",
       "</style>\n",
       "<table border=\"1\" class=\"dataframe\">\n",
       "  <thead>\n",
       "    <tr style=\"text-align: right;\">\n",
       "      <th></th>\n",
       "      <th>CODI EOI</th>\n",
       "      <th>NOM ESTACIO</th>\n",
       "      <th>CONTAMINANT</th>\n",
       "    </tr>\n",
       "  </thead>\n",
       "  <tbody>\n",
       "    <tr>\n",
       "      <th>107</th>\n",
       "      <td>8015021</td>\n",
       "      <td>Badalona</td>\n",
       "      <td>NO</td>\n",
       "    </tr>\n",
       "    <tr>\n",
       "      <th>25</th>\n",
       "      <td>8015021</td>\n",
       "      <td>Badalona</td>\n",
       "      <td>NO2</td>\n",
       "    </tr>\n",
       "    <tr>\n",
       "      <th>30</th>\n",
       "      <td>8015021</td>\n",
       "      <td>Badalona</td>\n",
       "      <td>NOX</td>\n",
       "    </tr>\n",
       "    <tr>\n",
       "      <th>6</th>\n",
       "      <td>8015021</td>\n",
       "      <td>Badalona</td>\n",
       "      <td>O3</td>\n",
       "    </tr>\n",
       "    <tr>\n",
       "      <th>56</th>\n",
       "      <td>8015021</td>\n",
       "      <td>Badalona</td>\n",
       "      <td>SO2</td>\n",
       "    </tr>\n",
       "  </tbody>\n",
       "</table>\n",
       "</div>"
      ],
      "text/plain": [
       "     CODI EOI NOM ESTACIO CONTAMINANT\n",
       "107   8015021    Badalona          NO\n",
       "25    8015021    Badalona         NO2\n",
       "30    8015021    Badalona         NOX\n",
       "6     8015021    Badalona          O3\n",
       "56    8015021    Badalona         SO2"
      ]
     },
     "execution_count": 13,
     "metadata": {},
     "output_type": "execute_result"
    }
   ],
   "source": [
    "df_est1=df_est[['CODI EOI','NOM ESTACIO','CONTAMINANT']].drop_duplicates().sort_values(axis=0,by=['NOM ESTACIO','CONTAMINANT'])\n",
    "df_est1.head()"
   ]
  },
  {
   "cell_type": "markdown",
   "metadata": {},
   "source": [
    "Generación DF con contaminantes registrados en cada estación:"
   ]
  },
  {
   "cell_type": "code",
   "execution_count": 14,
   "metadata": {
    "ExecuteTime": {
     "end_time": "2021-05-31T21:05:54.259793Z",
     "start_time": "2021-05-31T21:05:54.222839Z"
    }
   },
   "outputs": [],
   "source": [
    "estaciones=df_est1['NOM ESTACIO'].unique()\n",
    "estaciones_contaminates=[]\n",
    "for i,v in enumerate(estaciones):\n",
    "    # Filtrar estaciones \n",
    "    df_aux=df_est1[df_est1['NOM ESTACIO']==v]\n",
    "    # Crear lista almacenar contaminantes\n",
    "    contaminantes=[]\n",
    "    for i in range(df_aux.shape[0]):\n",
    "        contaminantes.append(df_aux.iloc[i,2])\n",
    "    # Almacenar estaciones y contaminate\n",
    "    estaciones_contaminates.append([df_aux.iloc[0,0],', '.join(contaminantes)])\n",
    "# Generar DF\n",
    "df_estaciones_contaminates=pd.DataFrame(estaciones_contaminates,columns=['CODI EOI','Contaminantes'])"
   ]
  },
  {
   "cell_type": "markdown",
   "metadata": {},
   "source": [
    "Añadimos columna contaminantes a Df de Estaciones:"
   ]
  },
  {
   "cell_type": "code",
   "execution_count": 15,
   "metadata": {
    "ExecuteTime": {
     "end_time": "2021-05-31T21:05:54.282508Z",
     "start_time": "2021-05-31T21:05:54.260805Z"
    }
   },
   "outputs": [],
   "source": [
    "df_est1=df_est.drop(columns=['index','CONTAMINANT','GEOREFERENCIA'])\\\n",
    "                .drop_duplicates(subset=['CODI EOI'])\\\n",
    "                .sort_values(by=['CODI EOI'])\\\n",
    "                .reset_index(drop=True)\n",
    "df_est1=df_est1.merge(df_estaciones_contaminates,how='left',on='CODI EOI')"
   ]
  },
  {
   "cell_type": "markdown",
   "metadata": {},
   "source": [
    "Creamos columna para identificar estaciones con Ozono:"
   ]
  },
  {
   "cell_type": "code",
   "execution_count": 16,
   "metadata": {
    "ExecuteTime": {
     "end_time": "2021-05-31T21:05:54.302838Z",
     "start_time": "2021-05-31T21:05:54.282508Z"
    }
   },
   "outputs": [
    {
     "data": {
      "text/html": [
       "<div>\n",
       "<style scoped>\n",
       "    .dataframe tbody tr th:only-of-type {\n",
       "        vertical-align: middle;\n",
       "    }\n",
       "\n",
       "    .dataframe tbody tr th {\n",
       "        vertical-align: top;\n",
       "    }\n",
       "\n",
       "    .dataframe thead th {\n",
       "        text-align: right;\n",
       "    }\n",
       "</style>\n",
       "<table border=\"1\" class=\"dataframe\">\n",
       "  <thead>\n",
       "    <tr style=\"text-align: right;\">\n",
       "      <th></th>\n",
       "      <th>CODI EOI</th>\n",
       "      <th>NOM ESTACIO</th>\n",
       "      <th>TIPUS ESTACIO</th>\n",
       "      <th>AREA URBANA</th>\n",
       "      <th>ALTITUD</th>\n",
       "      <th>LATITUD</th>\n",
       "      <th>LONGITUD</th>\n",
       "      <th>Contaminantes</th>\n",
       "      <th>Ozono</th>\n",
       "    </tr>\n",
       "  </thead>\n",
       "  <tbody>\n",
       "    <tr>\n",
       "      <th>0</th>\n",
       "      <td>8015021</td>\n",
       "      <td>Badalona</td>\n",
       "      <td>background</td>\n",
       "      <td>urban</td>\n",
       "      <td>7</td>\n",
       "      <td>41.443985</td>\n",
       "      <td>2.237899</td>\n",
       "      <td>NO, NO2, NOX, O3, SO2</td>\n",
       "      <td>Si</td>\n",
       "    </tr>\n",
       "    <tr>\n",
       "      <th>1</th>\n",
       "      <td>8019004</td>\n",
       "      <td>Barcelona (Poblenou)</td>\n",
       "      <td>background</td>\n",
       "      <td>urban</td>\n",
       "      <td>3</td>\n",
       "      <td>41.403880</td>\n",
       "      <td>2.204501</td>\n",
       "      <td>NO, NO2, NOX, PM10</td>\n",
       "      <td>No</td>\n",
       "    </tr>\n",
       "    <tr>\n",
       "      <th>2</th>\n",
       "      <td>8019042</td>\n",
       "      <td>Barcelona (Sants)</td>\n",
       "      <td>background</td>\n",
       "      <td>urban</td>\n",
       "      <td>35</td>\n",
       "      <td>41.378780</td>\n",
       "      <td>2.133099</td>\n",
       "      <td>NO, NO2, NOX</td>\n",
       "      <td>No</td>\n",
       "    </tr>\n",
       "    <tr>\n",
       "      <th>3</th>\n",
       "      <td>8019043</td>\n",
       "      <td>Barcelona (Eixample)</td>\n",
       "      <td>traffic</td>\n",
       "      <td>urban</td>\n",
       "      <td>26</td>\n",
       "      <td>41.385315</td>\n",
       "      <td>2.153800</td>\n",
       "      <td>CO, NO, NO2, NOX, O3, PM10, SO2</td>\n",
       "      <td>Si</td>\n",
       "    </tr>\n",
       "    <tr>\n",
       "      <th>4</th>\n",
       "      <td>8019044</td>\n",
       "      <td>Barcelona (Gràcia - Sant Gervasi)</td>\n",
       "      <td>traffic</td>\n",
       "      <td>urban</td>\n",
       "      <td>57</td>\n",
       "      <td>41.398724</td>\n",
       "      <td>2.153399</td>\n",
       "      <td>CO, NO, NO2, NOX, O3, PM10, SO2</td>\n",
       "      <td>Si</td>\n",
       "    </tr>\n",
       "  </tbody>\n",
       "</table>\n",
       "</div>"
      ],
      "text/plain": [
       "   CODI EOI                        NOM ESTACIO TIPUS ESTACIO AREA URBANA  \\\n",
       "0   8015021                           Badalona    background       urban   \n",
       "1   8019004               Barcelona (Poblenou)    background       urban   \n",
       "2   8019042                  Barcelona (Sants)    background       urban   \n",
       "3   8019043               Barcelona (Eixample)       traffic       urban   \n",
       "4   8019044  Barcelona (Gràcia - Sant Gervasi)       traffic       urban   \n",
       "\n",
       "   ALTITUD    LATITUD  LONGITUD                    Contaminantes Ozono  \n",
       "0        7  41.443985  2.237899            NO, NO2, NOX, O3, SO2    Si  \n",
       "1        3  41.403880  2.204501               NO, NO2, NOX, PM10    No  \n",
       "2       35  41.378780  2.133099                     NO, NO2, NOX    No  \n",
       "3       26  41.385315  2.153800  CO, NO, NO2, NOX, O3, PM10, SO2    Si  \n",
       "4       57  41.398724  2.153399  CO, NO, NO2, NOX, O3, PM10, SO2    Si  "
      ]
     },
     "execution_count": 16,
     "metadata": {},
     "output_type": "execute_result"
    }
   ],
   "source": [
    "df_est1['Ozono']=np.where(df_est1['Contaminantes'].str.contains('O3'),\"Si\",\"No\")\n",
    "df_est1.head()"
   ]
  },
  {
   "cell_type": "markdown",
   "metadata": {},
   "source": [
    "## Guardado Tipo Estación"
   ]
  },
  {
   "cell_type": "code",
   "execution_count": 17,
   "metadata": {
    "ExecuteTime": {
     "end_time": "2021-05-31T21:05:54.322785Z",
     "start_time": "2021-05-31T21:05:54.302838Z"
    }
   },
   "outputs": [],
   "source": [
    "df_est1.to_csv('../Datos/Calidad_Aire/Estaciones.csv',sep=\";\",decimal=\".\")"
   ]
  },
  {
   "cell_type": "markdown",
   "metadata": {},
   "source": [
    "# CSV Mediciones"
   ]
  },
  {
   "cell_type": "markdown",
   "metadata": {},
   "source": [
    "Selección Atributos de Interes:"
   ]
  },
  {
   "cell_type": "code",
   "execution_count": 18,
   "metadata": {
    "ExecuteTime": {
     "end_time": "2021-05-31T21:05:54.342591Z",
     "start_time": "2021-05-31T21:05:54.322785Z"
    }
   },
   "outputs": [],
   "source": [
    "df_med=df4[['CODI EOI','NOM ESTACIO','CONTAMINANT','UNITATS','DATA','01h', '02h', '03h', '04h', '05h', '06h', '07h', '08h',\n",
    "       '09h', '10h', '11h', '12h', '13h', '14h', '15h', '16h', '17h', '18h',\n",
    "       '19h', '20h', '21h', '22h', '23h', '24h']]"
   ]
  },
  {
   "cell_type": "markdown",
   "metadata": {},
   "source": [
    "Colapsar columnas de mediciones a filas:"
   ]
  },
  {
   "cell_type": "code",
   "execution_count": 19,
   "metadata": {
    "ExecuteTime": {
     "end_time": "2021-05-31T21:05:54.651516Z",
     "start_time": "2021-05-31T21:05:54.343102Z"
    }
   },
   "outputs": [],
   "source": [
    "df_med=pd.melt(df_med, id_vars=['CODI EOI','NOM ESTACIO','CONTAMINANT','UNITATS','DATA'],\n",
    "               value_vars=['01h', '02h', '03h', '04h', '05h', '06h', '07h', '08h','09h', '10h', '11h', '12h', \n",
    "                           '13h', '14h', '15h', '16h', '17h', '18h','19h', '20h', '21h', '22h', '23h', '24h'])"
   ]
  },
  {
   "cell_type": "markdown",
   "metadata": {
    "ExecuteTime": {
     "end_time": "2021-04-08T12:25:24.280686Z",
     "start_time": "2021-04-08T12:25:24.258001Z"
    }
   },
   "source": [
    "Ordenación columnas:"
   ]
  },
  {
   "cell_type": "code",
   "execution_count": 20,
   "metadata": {
    "ExecuteTime": {
     "end_time": "2021-05-31T21:05:55.230653Z",
     "start_time": "2021-05-31T21:05:54.652594Z"
    }
   },
   "outputs": [],
   "source": [
    "df_med=df_med.sort_values(by=['DATA','variable'],ascending=False)"
   ]
  },
  {
   "cell_type": "code",
   "execution_count": 21,
   "metadata": {
    "ExecuteTime": {
     "end_time": "2021-05-31T21:05:55.247783Z",
     "start_time": "2021-05-31T21:05:55.232755Z"
    },
    "scrolled": true
   },
   "outputs": [
    {
     "data": {
      "text/html": [
       "<div>\n",
       "<style scoped>\n",
       "    .dataframe tbody tr th:only-of-type {\n",
       "        vertical-align: middle;\n",
       "    }\n",
       "\n",
       "    .dataframe tbody tr th {\n",
       "        vertical-align: top;\n",
       "    }\n",
       "\n",
       "    .dataframe thead th {\n",
       "        text-align: right;\n",
       "    }\n",
       "</style>\n",
       "<table border=\"1\" class=\"dataframe\">\n",
       "  <thead>\n",
       "    <tr style=\"text-align: right;\">\n",
       "      <th></th>\n",
       "      <th>CODI EOI</th>\n",
       "      <th>NOM ESTACIO</th>\n",
       "      <th>CONTAMINANT</th>\n",
       "      <th>UNITATS</th>\n",
       "      <th>DATA</th>\n",
       "      <th>variable</th>\n",
       "      <th>value</th>\n",
       "    </tr>\n",
       "  </thead>\n",
       "  <tbody>\n",
       "    <tr>\n",
       "      <th>2937836</th>\n",
       "      <td>8101001</td>\n",
       "      <td>L'Hospitalet de Llobregat</td>\n",
       "      <td>NOX</td>\n",
       "      <td>µg/m3</td>\n",
       "      <td>2021-04-07</td>\n",
       "      <td>24h</td>\n",
       "      <td>NaN</td>\n",
       "    </tr>\n",
       "    <tr>\n",
       "      <th>2937837</th>\n",
       "      <td>8169009</td>\n",
       "      <td>El Prat de Llobregat (Sagnier)</td>\n",
       "      <td>SO2</td>\n",
       "      <td>µg/m3</td>\n",
       "      <td>2021-04-07</td>\n",
       "      <td>24h</td>\n",
       "      <td>NaN</td>\n",
       "    </tr>\n",
       "    <tr>\n",
       "      <th>2937838</th>\n",
       "      <td>8019004</td>\n",
       "      <td>Barcelona (Poblenou)</td>\n",
       "      <td>NO2</td>\n",
       "      <td>µg/m3</td>\n",
       "      <td>2021-04-07</td>\n",
       "      <td>24h</td>\n",
       "      <td>NaN</td>\n",
       "    </tr>\n",
       "    <tr>\n",
       "      <th>2937839</th>\n",
       "      <td>8019044</td>\n",
       "      <td>Barcelona (Gràcia - Sant Gervasi)</td>\n",
       "      <td>CO</td>\n",
       "      <td>mg/m3</td>\n",
       "      <td>2021-04-07</td>\n",
       "      <td>24h</td>\n",
       "      <td>NaN</td>\n",
       "    </tr>\n",
       "    <tr>\n",
       "      <th>2937840</th>\n",
       "      <td>8125013</td>\n",
       "      <td>Montcada i Reixac (Can Sant Joan)</td>\n",
       "      <td>PM10</td>\n",
       "      <td>µg/m3</td>\n",
       "      <td>2021-04-07</td>\n",
       "      <td>24h</td>\n",
       "      <td>NaN</td>\n",
       "    </tr>\n",
       "  </tbody>\n",
       "</table>\n",
       "</div>"
      ],
      "text/plain": [
       "         CODI EOI                        NOM ESTACIO CONTAMINANT UNITATS  \\\n",
       "2937836   8101001          L'Hospitalet de Llobregat         NOX   µg/m3   \n",
       "2937837   8169009     El Prat de Llobregat (Sagnier)         SO2   µg/m3   \n",
       "2937838   8019004               Barcelona (Poblenou)         NO2   µg/m3   \n",
       "2937839   8019044  Barcelona (Gràcia - Sant Gervasi)          CO   mg/m3   \n",
       "2937840   8125013  Montcada i Reixac (Can Sant Joan)        PM10   µg/m3   \n",
       "\n",
       "              DATA variable  value  \n",
       "2937836 2021-04-07      24h    NaN  \n",
       "2937837 2021-04-07      24h    NaN  \n",
       "2937838 2021-04-07      24h    NaN  \n",
       "2937839 2021-04-07      24h    NaN  \n",
       "2937840 2021-04-07      24h    NaN  "
      ]
     },
     "execution_count": 21,
     "metadata": {},
     "output_type": "execute_result"
    }
   ],
   "source": [
    "df_med.head()"
   ]
  },
  {
   "cell_type": "markdown",
   "metadata": {},
   "source": [
    "## Preprocesar hora:"
   ]
  },
  {
   "cell_type": "code",
   "execution_count": 22,
   "metadata": {
    "ExecuteTime": {
     "end_time": "2021-05-31T21:05:55.272909Z",
     "start_time": "2021-05-31T21:05:55.247783Z"
    }
   },
   "outputs": [],
   "source": [
    "df_med.rename(columns={\"variable\": \"HORA\"},inplace=True)"
   ]
  },
  {
   "cell_type": "markdown",
   "metadata": {},
   "source": [
    "Convertir columna variable a category:"
   ]
  },
  {
   "cell_type": "code",
   "execution_count": 23,
   "metadata": {
    "ExecuteTime": {
     "end_time": "2021-05-31T21:05:55.467446Z",
     "start_time": "2021-05-31T21:05:55.272909Z"
    }
   },
   "outputs": [],
   "source": [
    "df_med['HORA'] = df_med['HORA'].astype(\"category\")"
   ]
  },
  {
   "cell_type": "code",
   "execution_count": 24,
   "metadata": {
    "ExecuteTime": {
     "end_time": "2021-05-31T21:05:55.522562Z",
     "start_time": "2021-05-31T21:05:55.467446Z"
    }
   },
   "outputs": [
    {
     "data": {
      "text/plain": [
       "['24h', '23h', '22h', '21h', '20h', ..., '05h', '04h', '03h', '02h', '01h']\n",
       "Length: 24\n",
       "Categories (24, object): ['24h', '23h', '22h', '21h', ..., '04h', '03h', '02h', '01h']"
      ]
     },
     "execution_count": 24,
     "metadata": {},
     "output_type": "execute_result"
    }
   ],
   "source": [
    "df_med['HORA'].unique()"
   ]
  },
  {
   "cell_type": "markdown",
   "metadata": {},
   "source": [
    "Renombrar categorías:"
   ]
  },
  {
   "cell_type": "code",
   "execution_count": 25,
   "metadata": {
    "ExecuteTime": {
     "end_time": "2021-05-31T21:05:55.542441Z",
     "start_time": "2021-05-31T21:05:55.522562Z"
    }
   },
   "outputs": [],
   "source": [
    "# Mapeamos categorías viejas a nuevas\n",
    "d = {'01h': '00:00:00','02h': '01:00:00','03h': '02:00:00','04h': '03:00:00','05h': '04:00:00','06h': '05:00:00',\n",
    "     '07h': '06:00:00','08h': '07:00:00','09h': '08:00:00','10h': '09:00:00','11h': '10:00:00','12h': '11:00:00',\n",
    "     '13h': '12:00:00','14h': '13:00:00','15h': '14:00:00','16h': '15:00:00','17h': '16:00:00','18h': '17:00:00',\n",
    "     '19h': '18:00:00','20h': '19:00:00','21h': '20:00:00','22h': '21:00:00','23h': '22:00:00','24h': '23:00:00'}\n",
    "# Cambiamos nombres de categorías\n",
    "df_med['HORA'] = df_med['HORA'].map(d)"
   ]
  },
  {
   "cell_type": "markdown",
   "metadata": {},
   "source": [
    "Cambiar tipo de columna DATA y HORA:"
   ]
  },
  {
   "cell_type": "code",
   "execution_count": 26,
   "metadata": {
    "ExecuteTime": {
     "end_time": "2021-05-31T21:06:16.952668Z",
     "start_time": "2021-05-31T21:05:55.542441Z"
    }
   },
   "outputs": [],
   "source": [
    "df_med = df_med.astype({'DATA': 'string', 'HORA': 'string'})"
   ]
  },
  {
   "cell_type": "markdown",
   "metadata": {},
   "source": [
    "Generar String Fecha uniendo DATA y HORA:"
   ]
  },
  {
   "cell_type": "code",
   "execution_count": 27,
   "metadata": {
    "ExecuteTime": {
     "end_time": "2021-05-31T21:06:18.197648Z",
     "start_time": "2021-05-31T21:06:16.952668Z"
    }
   },
   "outputs": [],
   "source": [
    "df_med['FECHA'] = df_med['DATA'] + ' ' + df_med['HORA']"
   ]
  },
  {
   "cell_type": "markdown",
   "metadata": {},
   "source": [
    "Convertir string FECHA a datetime:"
   ]
  },
  {
   "cell_type": "code",
   "execution_count": 28,
   "metadata": {
    "ExecuteTime": {
     "end_time": "2021-05-31T21:06:18.862854Z",
     "start_time": "2021-05-31T21:06:18.197648Z"
    }
   },
   "outputs": [],
   "source": [
    "df_med['FECHA'] = pd.to_datetime(df_med['FECHA'],format='%Y-%m-%d %H:%M:%S')"
   ]
  },
  {
   "cell_type": "markdown",
   "metadata": {},
   "source": [
    "Eliminamos registros FECHA de CAMBIO HORARIO:"
   ]
  },
  {
   "cell_type": "code",
   "execution_count": 29,
   "metadata": {
    "ExecuteTime": {
     "end_time": "2021-05-31T21:06:21.036461Z",
     "start_time": "2021-05-31T21:06:18.863421Z"
    },
    "scrolled": true
   },
   "outputs": [],
   "source": [
    "df_med.drop(df_med[df_med['FECHA']=='2021-03-28 02:00:00'].index,inplace=True)\n",
    "df_med.drop(df_med[df_med['FECHA']=='2020-03-29 02:00:00'].index,inplace=True)\n",
    "df_med.drop(df_med[df_med['FECHA']=='2019-03-31 02:00:00'].index,inplace=True)\n",
    "df_med.drop(df_med[df_med['FECHA']=='2018-03-25 02:00:00'].index,inplace=True)"
   ]
  },
  {
   "cell_type": "markdown",
   "metadata": {},
   "source": [
    "Conversión Timestamp a UTC:"
   ]
  },
  {
   "cell_type": "code",
   "execution_count": 30,
   "metadata": {
    "ExecuteTime": {
     "end_time": "2021-05-31T21:06:21.812807Z",
     "start_time": "2021-05-31T21:06:21.036461Z"
    },
    "scrolled": true
   },
   "outputs": [],
   "source": [
    "df_med['FECHA_UTC'] = df_med['FECHA'].dt.tz_localize('Europe/Madrid',ambiguous=False).dt.tz_convert('UTC')"
   ]
  },
  {
   "cell_type": "markdown",
   "metadata": {},
   "source": [
    "Identificar día de la semana:"
   ]
  },
  {
   "cell_type": "code",
   "execution_count": 31,
   "metadata": {
    "ExecuteTime": {
     "end_time": "2021-05-31T21:06:22.052982Z",
     "start_time": "2021-05-31T21:06:21.812807Z"
    }
   },
   "outputs": [],
   "source": [
    "df_med['DIA'] = df_med['FECHA'].dt.dayofweek"
   ]
  },
  {
   "cell_type": "markdown",
   "metadata": {},
   "source": [
    "Identificar si día es laboral o festivo:"
   ]
  },
  {
   "cell_type": "code",
   "execution_count": 32,
   "metadata": {
    "ExecuteTime": {
     "end_time": "2021-05-31T21:06:22.362681Z",
     "start_time": "2021-05-31T21:06:22.052982Z"
    }
   },
   "outputs": [],
   "source": [
    "df_med['TIPO_DIA'] = np.where((df_med['DIA']==5) | (df_med['DIA']==6),\"Festivo\",\"Laboral\")"
   ]
  },
  {
   "cell_type": "markdown",
   "metadata": {},
   "source": [
    "Borrar Columnas:"
   ]
  },
  {
   "cell_type": "code",
   "execution_count": 33,
   "metadata": {
    "ExecuteTime": {
     "end_time": "2021-05-31T21:06:22.960836Z",
     "start_time": "2021-05-31T21:06:22.362681Z"
    }
   },
   "outputs": [],
   "source": [
    "df_med.drop(['DATA','HORA'],axis=1,inplace=True)\n",
    "df_med.reset_index(drop=True,inplace=True)"
   ]
  },
  {
   "cell_type": "code",
   "execution_count": 34,
   "metadata": {
    "ExecuteTime": {
     "end_time": "2021-05-31T21:06:22.982799Z",
     "start_time": "2021-05-31T21:06:22.960836Z"
    }
   },
   "outputs": [
    {
     "data": {
      "text/html": [
       "<div>\n",
       "<style scoped>\n",
       "    .dataframe tbody tr th:only-of-type {\n",
       "        vertical-align: middle;\n",
       "    }\n",
       "\n",
       "    .dataframe tbody tr th {\n",
       "        vertical-align: top;\n",
       "    }\n",
       "\n",
       "    .dataframe thead th {\n",
       "        text-align: right;\n",
       "    }\n",
       "</style>\n",
       "<table border=\"1\" class=\"dataframe\">\n",
       "  <thead>\n",
       "    <tr style=\"text-align: right;\">\n",
       "      <th></th>\n",
       "      <th>CODI EOI</th>\n",
       "      <th>NOM ESTACIO</th>\n",
       "      <th>CONTAMINANT</th>\n",
       "      <th>UNITATS</th>\n",
       "      <th>value</th>\n",
       "      <th>FECHA</th>\n",
       "      <th>FECHA_UTC</th>\n",
       "      <th>DIA</th>\n",
       "      <th>TIPO_DIA</th>\n",
       "    </tr>\n",
       "  </thead>\n",
       "  <tbody>\n",
       "    <tr>\n",
       "      <th>0</th>\n",
       "      <td>8101001</td>\n",
       "      <td>L'Hospitalet de Llobregat</td>\n",
       "      <td>NOX</td>\n",
       "      <td>µg/m3</td>\n",
       "      <td>NaN</td>\n",
       "      <td>2021-04-07 23:00:00</td>\n",
       "      <td>2021-04-07 21:00:00+00:00</td>\n",
       "      <td>2</td>\n",
       "      <td>Laboral</td>\n",
       "    </tr>\n",
       "    <tr>\n",
       "      <th>1</th>\n",
       "      <td>8169009</td>\n",
       "      <td>El Prat de Llobregat (Sagnier)</td>\n",
       "      <td>SO2</td>\n",
       "      <td>µg/m3</td>\n",
       "      <td>NaN</td>\n",
       "      <td>2021-04-07 23:00:00</td>\n",
       "      <td>2021-04-07 21:00:00+00:00</td>\n",
       "      <td>2</td>\n",
       "      <td>Laboral</td>\n",
       "    </tr>\n",
       "    <tr>\n",
       "      <th>2</th>\n",
       "      <td>8019004</td>\n",
       "      <td>Barcelona (Poblenou)</td>\n",
       "      <td>NO2</td>\n",
       "      <td>µg/m3</td>\n",
       "      <td>NaN</td>\n",
       "      <td>2021-04-07 23:00:00</td>\n",
       "      <td>2021-04-07 21:00:00+00:00</td>\n",
       "      <td>2</td>\n",
       "      <td>Laboral</td>\n",
       "    </tr>\n",
       "    <tr>\n",
       "      <th>3</th>\n",
       "      <td>8019044</td>\n",
       "      <td>Barcelona (Gràcia - Sant Gervasi)</td>\n",
       "      <td>CO</td>\n",
       "      <td>mg/m3</td>\n",
       "      <td>NaN</td>\n",
       "      <td>2021-04-07 23:00:00</td>\n",
       "      <td>2021-04-07 21:00:00+00:00</td>\n",
       "      <td>2</td>\n",
       "      <td>Laboral</td>\n",
       "    </tr>\n",
       "    <tr>\n",
       "      <th>4</th>\n",
       "      <td>8125013</td>\n",
       "      <td>Montcada i Reixac (Can Sant Joan)</td>\n",
       "      <td>PM10</td>\n",
       "      <td>µg/m3</td>\n",
       "      <td>NaN</td>\n",
       "      <td>2021-04-07 23:00:00</td>\n",
       "      <td>2021-04-07 21:00:00+00:00</td>\n",
       "      <td>2</td>\n",
       "      <td>Laboral</td>\n",
       "    </tr>\n",
       "  </tbody>\n",
       "</table>\n",
       "</div>"
      ],
      "text/plain": [
       "   CODI EOI                        NOM ESTACIO CONTAMINANT UNITATS  value  \\\n",
       "0   8101001          L'Hospitalet de Llobregat         NOX   µg/m3    NaN   \n",
       "1   8169009     El Prat de Llobregat (Sagnier)         SO2   µg/m3    NaN   \n",
       "2   8019004               Barcelona (Poblenou)         NO2   µg/m3    NaN   \n",
       "3   8019044  Barcelona (Gràcia - Sant Gervasi)          CO   mg/m3    NaN   \n",
       "4   8125013  Montcada i Reixac (Can Sant Joan)        PM10   µg/m3    NaN   \n",
       "\n",
       "                FECHA                 FECHA_UTC  DIA TIPO_DIA  \n",
       "0 2021-04-07 23:00:00 2021-04-07 21:00:00+00:00    2  Laboral  \n",
       "1 2021-04-07 23:00:00 2021-04-07 21:00:00+00:00    2  Laboral  \n",
       "2 2021-04-07 23:00:00 2021-04-07 21:00:00+00:00    2  Laboral  \n",
       "3 2021-04-07 23:00:00 2021-04-07 21:00:00+00:00    2  Laboral  \n",
       "4 2021-04-07 23:00:00 2021-04-07 21:00:00+00:00    2  Laboral  "
      ]
     },
     "execution_count": 34,
     "metadata": {},
     "output_type": "execute_result"
    }
   ],
   "source": [
    "df_med.head()"
   ]
  },
  {
   "cell_type": "markdown",
   "metadata": {},
   "source": [
    "# FILTRADO NO2 y O3 || PREPARACION DF"
   ]
  },
  {
   "cell_type": "markdown",
   "metadata": {},
   "source": [
    "Filtrado moléculas objetivo:"
   ]
  },
  {
   "cell_type": "code",
   "execution_count": 35,
   "metadata": {
    "ExecuteTime": {
     "end_time": "2021-05-31T21:06:23.505946Z",
     "start_time": "2021-05-31T21:06:22.982799Z"
    }
   },
   "outputs": [],
   "source": [
    "df_med1 = df_med[(df_med['CONTAMINANT']=='NO2') | (df_med['CONTAMINANT']=='O3')].reset_index(drop = True)"
   ]
  },
  {
   "cell_type": "code",
   "execution_count": 36,
   "metadata": {
    "ExecuteTime": {
     "end_time": "2021-05-31T21:06:23.637683Z",
     "start_time": "2021-05-31T21:06:23.505946Z"
    }
   },
   "outputs": [
    {
     "data": {
      "text/html": [
       "<div>\n",
       "<style scoped>\n",
       "    .dataframe tbody tr th:only-of-type {\n",
       "        vertical-align: middle;\n",
       "    }\n",
       "\n",
       "    .dataframe tbody tr th {\n",
       "        vertical-align: top;\n",
       "    }\n",
       "\n",
       "    .dataframe thead th {\n",
       "        text-align: right;\n",
       "    }\n",
       "</style>\n",
       "<table border=\"1\" class=\"dataframe\">\n",
       "  <thead>\n",
       "    <tr style=\"text-align: right;\">\n",
       "      <th></th>\n",
       "      <th>CODI EOI</th>\n",
       "      <th>NOM ESTACIO</th>\n",
       "    </tr>\n",
       "  </thead>\n",
       "  <tbody>\n",
       "    <tr>\n",
       "      <th>0</th>\n",
       "      <td>8019004</td>\n",
       "      <td>Barcelona (Poblenou)</td>\n",
       "    </tr>\n",
       "    <tr>\n",
       "      <th>1</th>\n",
       "      <td>8245012</td>\n",
       "      <td>Santa Coloma de Gramenet</td>\n",
       "    </tr>\n",
       "    <tr>\n",
       "      <th>2</th>\n",
       "      <td>8015021</td>\n",
       "      <td>Badalona</td>\n",
       "    </tr>\n",
       "    <tr>\n",
       "      <th>3</th>\n",
       "      <td>8101001</td>\n",
       "      <td>L'Hospitalet de Llobregat</td>\n",
       "    </tr>\n",
       "    <tr>\n",
       "      <th>4</th>\n",
       "      <td>8263001</td>\n",
       "      <td>Sant Vicenç dels Horts (Ribot)</td>\n",
       "    </tr>\n",
       "    <tr>\n",
       "      <th>5</th>\n",
       "      <td>8019057</td>\n",
       "      <td>Barcelona (Palau Reial)</td>\n",
       "    </tr>\n",
       "    <tr>\n",
       "      <th>6</th>\n",
       "      <td>8089005</td>\n",
       "      <td>Gavà</td>\n",
       "    </tr>\n",
       "    <tr>\n",
       "      <th>7</th>\n",
       "      <td>8019043</td>\n",
       "      <td>Barcelona (Eixample)</td>\n",
       "    </tr>\n",
       "    <tr>\n",
       "      <th>8</th>\n",
       "      <td>8157003</td>\n",
       "      <td>Pallejà (Roca de Vilana)</td>\n",
       "    </tr>\n",
       "    <tr>\n",
       "      <th>9</th>\n",
       "      <td>8019044</td>\n",
       "      <td>Barcelona (Gràcia - Sant Gervasi)</td>\n",
       "    </tr>\n",
       "    <tr>\n",
       "      <th>10</th>\n",
       "      <td>8169009</td>\n",
       "      <td>El Prat de Llobregat (Sagnier)</td>\n",
       "    </tr>\n",
       "    <tr>\n",
       "      <th>12</th>\n",
       "      <td>8252006</td>\n",
       "      <td>Barberà del Vallès</td>\n",
       "    </tr>\n",
       "    <tr>\n",
       "      <th>14</th>\n",
       "      <td>8125002</td>\n",
       "      <td>Montcada i Reixac</td>\n",
       "    </tr>\n",
       "    <tr>\n",
       "      <th>15</th>\n",
       "      <td>8263007</td>\n",
       "      <td>Sant Vicenç dels Horts</td>\n",
       "    </tr>\n",
       "    <tr>\n",
       "      <th>18</th>\n",
       "      <td>8205002</td>\n",
       "      <td>Sant Cugat del Vallès</td>\n",
       "    </tr>\n",
       "    <tr>\n",
       "      <th>19</th>\n",
       "      <td>8019054</td>\n",
       "      <td>Barcelona (Parc Vall Hebron)</td>\n",
       "    </tr>\n",
       "    <tr>\n",
       "      <th>20</th>\n",
       "      <td>8196001</td>\n",
       "      <td>Sant Andreu de la Barca</td>\n",
       "    </tr>\n",
       "    <tr>\n",
       "      <th>22</th>\n",
       "      <td>8019058</td>\n",
       "      <td>Barcelona (Observatori Fabra)</td>\n",
       "    </tr>\n",
       "    <tr>\n",
       "      <th>23</th>\n",
       "      <td>8194008</td>\n",
       "      <td>Sant Adrià de Besòs</td>\n",
       "    </tr>\n",
       "    <tr>\n",
       "      <th>24</th>\n",
       "      <td>8019050</td>\n",
       "      <td>Barcelona (Ciutadella)</td>\n",
       "    </tr>\n",
       "    <tr>\n",
       "      <th>29</th>\n",
       "      <td>8301004</td>\n",
       "      <td>Viladecans - Atrium</td>\n",
       "    </tr>\n",
       "    <tr>\n",
       "      <th>31</th>\n",
       "      <td>8169008</td>\n",
       "      <td>El Prat de Llobregat (Jardins de la Pau)</td>\n",
       "    </tr>\n",
       "    <tr>\n",
       "      <th>34</th>\n",
       "      <td>8019042</td>\n",
       "      <td>Barcelona (Sants)</td>\n",
       "    </tr>\n",
       "  </tbody>\n",
       "</table>\n",
       "</div>"
      ],
      "text/plain": [
       "    CODI EOI                               NOM ESTACIO\n",
       "0    8019004                      Barcelona (Poblenou)\n",
       "1    8245012                  Santa Coloma de Gramenet\n",
       "2    8015021                                  Badalona\n",
       "3    8101001                 L'Hospitalet de Llobregat\n",
       "4    8263001            Sant Vicenç dels Horts (Ribot)\n",
       "5    8019057                   Barcelona (Palau Reial)\n",
       "6    8089005                                      Gavà\n",
       "7    8019043                      Barcelona (Eixample)\n",
       "8    8157003                  Pallejà (Roca de Vilana)\n",
       "9    8019044         Barcelona (Gràcia - Sant Gervasi)\n",
       "10   8169009            El Prat de Llobregat (Sagnier)\n",
       "12   8252006                        Barberà del Vallès\n",
       "14   8125002                         Montcada i Reixac\n",
       "15   8263007                    Sant Vicenç dels Horts\n",
       "18   8205002                     Sant Cugat del Vallès\n",
       "19   8019054              Barcelona (Parc Vall Hebron)\n",
       "20   8196001                   Sant Andreu de la Barca\n",
       "22   8019058             Barcelona (Observatori Fabra)\n",
       "23   8194008                       Sant Adrià de Besòs\n",
       "24   8019050                    Barcelona (Ciutadella)\n",
       "29   8301004                       Viladecans - Atrium\n",
       "31   8169008  El Prat de Llobregat (Jardins de la Pau)\n",
       "34   8019042                         Barcelona (Sants)"
      ]
     },
     "execution_count": 36,
     "metadata": {},
     "output_type": "execute_result"
    }
   ],
   "source": [
    "df_med1[['CODI EOI','NOM ESTACIO']].drop_duplicates()"
   ]
  },
  {
   "cell_type": "markdown",
   "metadata": {},
   "source": [
    "Spread columna de contaminantes y selección columnas a retener:"
   ]
  },
  {
   "cell_type": "code",
   "execution_count": 37,
   "metadata": {
    "ExecuteTime": {
     "end_time": "2021-05-31T21:06:24.522638Z",
     "start_time": "2021-05-31T21:06:23.637683Z"
    }
   },
   "outputs": [],
   "source": [
    "df_aux = df_med1.pivot(index = ['CODI EOI','NOM ESTACIO','FECHA','DIA','TIPO_DIA'],columns='CONTAMINANT',values='value')\n",
    "df_aux.reset_index(drop = False,inplace = True)"
   ]
  },
  {
   "cell_type": "markdown",
   "metadata": {
    "ExecuteTime": {
     "end_time": "2021-05-14T15:00:43.963262Z",
     "start_time": "2021-05-14T15:00:43.899447Z"
    }
   },
   "source": [
    "Eliminación nulos:"
   ]
  },
  {
   "cell_type": "code",
   "execution_count": 38,
   "metadata": {
    "ExecuteTime": {
     "end_time": "2021-05-31T21:06:24.692551Z",
     "start_time": "2021-05-31T21:06:24.522638Z"
    }
   },
   "outputs": [
    {
     "data": {
      "text/html": [
       "<div>\n",
       "<style scoped>\n",
       "    .dataframe tbody tr th:only-of-type {\n",
       "        vertical-align: middle;\n",
       "    }\n",
       "\n",
       "    .dataframe tbody tr th {\n",
       "        vertical-align: top;\n",
       "    }\n",
       "\n",
       "    .dataframe thead th {\n",
       "        text-align: right;\n",
       "    }\n",
       "</style>\n",
       "<table border=\"1\" class=\"dataframe\">\n",
       "  <thead>\n",
       "    <tr style=\"text-align: right;\">\n",
       "      <th></th>\n",
       "      <th>CODI EOI</th>\n",
       "      <th>NumRows</th>\n",
       "      <th>Nulls</th>\n",
       "      <th>%Null</th>\n",
       "    </tr>\n",
       "  </thead>\n",
       "  <tbody>\n",
       "    <tr>\n",
       "      <th>0</th>\n",
       "      <td>8015021</td>\n",
       "      <td>26205</td>\n",
       "      <td>0</td>\n",
       "      <td>0.0</td>\n",
       "    </tr>\n",
       "    <tr>\n",
       "      <th>1</th>\n",
       "      <td>8019004</td>\n",
       "      <td>26205</td>\n",
       "      <td>0</td>\n",
       "      <td>0.0</td>\n",
       "    </tr>\n",
       "    <tr>\n",
       "      <th>2</th>\n",
       "      <td>8019042</td>\n",
       "      <td>26037</td>\n",
       "      <td>0</td>\n",
       "      <td>0.0</td>\n",
       "    </tr>\n",
       "    <tr>\n",
       "      <th>3</th>\n",
       "      <td>8019043</td>\n",
       "      <td>26205</td>\n",
       "      <td>0</td>\n",
       "      <td>0.0</td>\n",
       "    </tr>\n",
       "    <tr>\n",
       "      <th>4</th>\n",
       "      <td>8019044</td>\n",
       "      <td>26205</td>\n",
       "      <td>0</td>\n",
       "      <td>0.0</td>\n",
       "    </tr>\n",
       "    <tr>\n",
       "      <th>5</th>\n",
       "      <td>8019050</td>\n",
       "      <td>26181</td>\n",
       "      <td>0</td>\n",
       "      <td>0.0</td>\n",
       "    </tr>\n",
       "    <tr>\n",
       "      <th>6</th>\n",
       "      <td>8019054</td>\n",
       "      <td>26109</td>\n",
       "      <td>0</td>\n",
       "      <td>0.0</td>\n",
       "    </tr>\n",
       "    <tr>\n",
       "      <th>7</th>\n",
       "      <td>8019057</td>\n",
       "      <td>25461</td>\n",
       "      <td>0</td>\n",
       "      <td>0.0</td>\n",
       "    </tr>\n",
       "    <tr>\n",
       "      <th>8</th>\n",
       "      <td>8019058</td>\n",
       "      <td>24525</td>\n",
       "      <td>0</td>\n",
       "      <td>0.0</td>\n",
       "    </tr>\n",
       "    <tr>\n",
       "      <th>9</th>\n",
       "      <td>8089005</td>\n",
       "      <td>26205</td>\n",
       "      <td>0</td>\n",
       "      <td>0.0</td>\n",
       "    </tr>\n",
       "    <tr>\n",
       "      <th>10</th>\n",
       "      <td>8101001</td>\n",
       "      <td>25725</td>\n",
       "      <td>0</td>\n",
       "      <td>0.0</td>\n",
       "    </tr>\n",
       "    <tr>\n",
       "      <th>11</th>\n",
       "      <td>8125002</td>\n",
       "      <td>26085</td>\n",
       "      <td>0</td>\n",
       "      <td>0.0</td>\n",
       "    </tr>\n",
       "    <tr>\n",
       "      <th>12</th>\n",
       "      <td>8157003</td>\n",
       "      <td>25677</td>\n",
       "      <td>0</td>\n",
       "      <td>0.0</td>\n",
       "    </tr>\n",
       "    <tr>\n",
       "      <th>13</th>\n",
       "      <td>8169008</td>\n",
       "      <td>26037</td>\n",
       "      <td>0</td>\n",
       "      <td>0.0</td>\n",
       "    </tr>\n",
       "    <tr>\n",
       "      <th>14</th>\n",
       "      <td>8169009</td>\n",
       "      <td>26133</td>\n",
       "      <td>0</td>\n",
       "      <td>0.0</td>\n",
       "    </tr>\n",
       "    <tr>\n",
       "      <th>15</th>\n",
       "      <td>8194008</td>\n",
       "      <td>26205</td>\n",
       "      <td>0</td>\n",
       "      <td>0.0</td>\n",
       "    </tr>\n",
       "    <tr>\n",
       "      <th>16</th>\n",
       "      <td>8196001</td>\n",
       "      <td>26181</td>\n",
       "      <td>0</td>\n",
       "      <td>0.0</td>\n",
       "    </tr>\n",
       "    <tr>\n",
       "      <th>17</th>\n",
       "      <td>8205002</td>\n",
       "      <td>26205</td>\n",
       "      <td>0</td>\n",
       "      <td>0.0</td>\n",
       "    </tr>\n",
       "    <tr>\n",
       "      <th>18</th>\n",
       "      <td>8245012</td>\n",
       "      <td>26157</td>\n",
       "      <td>0</td>\n",
       "      <td>0.0</td>\n",
       "    </tr>\n",
       "    <tr>\n",
       "      <th>19</th>\n",
       "      <td>8252006</td>\n",
       "      <td>26085</td>\n",
       "      <td>0</td>\n",
       "      <td>0.0</td>\n",
       "    </tr>\n",
       "    <tr>\n",
       "      <th>20</th>\n",
       "      <td>8263001</td>\n",
       "      <td>26133</td>\n",
       "      <td>0</td>\n",
       "      <td>0.0</td>\n",
       "    </tr>\n",
       "    <tr>\n",
       "      <th>21</th>\n",
       "      <td>8263007</td>\n",
       "      <td>25653</td>\n",
       "      <td>0</td>\n",
       "      <td>0.0</td>\n",
       "    </tr>\n",
       "    <tr>\n",
       "      <th>22</th>\n",
       "      <td>8301004</td>\n",
       "      <td>26181</td>\n",
       "      <td>0</td>\n",
       "      <td>0.0</td>\n",
       "    </tr>\n",
       "  </tbody>\n",
       "</table>\n",
       "</div>"
      ],
      "text/plain": [
       "    CODI EOI  NumRows  Nulls  %Null\n",
       "0    8015021    26205      0    0.0\n",
       "1    8019004    26205      0    0.0\n",
       "2    8019042    26037      0    0.0\n",
       "3    8019043    26205      0    0.0\n",
       "4    8019044    26205      0    0.0\n",
       "5    8019050    26181      0    0.0\n",
       "6    8019054    26109      0    0.0\n",
       "7    8019057    25461      0    0.0\n",
       "8    8019058    24525      0    0.0\n",
       "9    8089005    26205      0    0.0\n",
       "10   8101001    25725      0    0.0\n",
       "11   8125002    26085      0    0.0\n",
       "12   8157003    25677      0    0.0\n",
       "13   8169008    26037      0    0.0\n",
       "14   8169009    26133      0    0.0\n",
       "15   8194008    26205      0    0.0\n",
       "16   8196001    26181      0    0.0\n",
       "17   8205002    26205      0    0.0\n",
       "18   8245012    26157      0    0.0\n",
       "19   8252006    26085      0    0.0\n",
       "20   8263001    26133      0    0.0\n",
       "21   8263007    25653      0    0.0\n",
       "22   8301004    26181      0    0.0"
      ]
     },
     "execution_count": 38,
     "metadata": {},
     "output_type": "execute_result"
    }
   ],
   "source": [
    "listNull = []\n",
    "for i,v in enumerate(df_aux['CODI EOI'].unique()):\n",
    "    df_aux_aux1 = df_aux[df_aux['CODI EOI']==v]\n",
    "    listNull.append([v,df_aux_aux1.shape[0],df_aux_aux1.isna().sum()[3]])\n",
    "df_auxNull = pd.DataFrame(listNull,columns=['CODI EOI','NumRows','Nulls'])\n",
    "df_auxNull['%Null'] = ((df_auxNull['Nulls']/df_auxNull['NumRows'])*100).round(2)\n",
    "df_auxNull"
   ]
  },
  {
   "cell_type": "code",
   "execution_count": 39,
   "metadata": {
    "ExecuteTime": {
     "end_time": "2021-05-31T21:06:24.752943Z",
     "start_time": "2021-05-31T21:06:24.692551Z"
    }
   },
   "outputs": [],
   "source": [
    "df = df_aux.dropna(subset=['NO2','O3'])"
   ]
  },
  {
   "cell_type": "markdown",
   "metadata": {
    "ExecuteTime": {
     "end_time": "2021-05-14T15:08:02.395967Z",
     "start_time": "2021-05-14T15:08:02.378411Z"
    }
   },
   "source": [
    "Contart registros por estación:"
   ]
  },
  {
   "cell_type": "code",
   "execution_count": 40,
   "metadata": {
    "ExecuteTime": {
     "end_time": "2021-05-31T21:06:24.812701Z",
     "start_time": "2021-05-31T21:06:24.752943Z"
    }
   },
   "outputs": [
    {
     "data": {
      "text/html": [
       "<div>\n",
       "<style scoped>\n",
       "    .dataframe tbody tr th:only-of-type {\n",
       "        vertical-align: middle;\n",
       "    }\n",
       "\n",
       "    .dataframe tbody tr th {\n",
       "        vertical-align: top;\n",
       "    }\n",
       "\n",
       "    .dataframe thead th {\n",
       "        text-align: right;\n",
       "    }\n",
       "</style>\n",
       "<table border=\"1\" class=\"dataframe\">\n",
       "  <thead>\n",
       "    <tr style=\"text-align: right;\">\n",
       "      <th>CONTAMINANT</th>\n",
       "      <th>NOM ESTACIO</th>\n",
       "      <th>FECHA</th>\n",
       "      <th>DIA</th>\n",
       "      <th>TIPO_DIA</th>\n",
       "      <th>NO2</th>\n",
       "      <th>O3</th>\n",
       "    </tr>\n",
       "    <tr>\n",
       "      <th>CODI EOI</th>\n",
       "      <th></th>\n",
       "      <th></th>\n",
       "      <th></th>\n",
       "      <th></th>\n",
       "      <th></th>\n",
       "      <th></th>\n",
       "    </tr>\n",
       "  </thead>\n",
       "  <tbody>\n",
       "    <tr>\n",
       "      <th>8015021</th>\n",
       "      <td>25597</td>\n",
       "      <td>25597</td>\n",
       "      <td>25597</td>\n",
       "      <td>25597</td>\n",
       "      <td>25597</td>\n",
       "      <td>25597</td>\n",
       "    </tr>\n",
       "    <tr>\n",
       "      <th>8019043</th>\n",
       "      <td>25092</td>\n",
       "      <td>25092</td>\n",
       "      <td>25092</td>\n",
       "      <td>25092</td>\n",
       "      <td>25092</td>\n",
       "      <td>25092</td>\n",
       "    </tr>\n",
       "    <tr>\n",
       "      <th>8019044</th>\n",
       "      <td>25567</td>\n",
       "      <td>25567</td>\n",
       "      <td>25567</td>\n",
       "      <td>25567</td>\n",
       "      <td>25567</td>\n",
       "      <td>25567</td>\n",
       "    </tr>\n",
       "    <tr>\n",
       "      <th>8019050</th>\n",
       "      <td>25334</td>\n",
       "      <td>25334</td>\n",
       "      <td>25334</td>\n",
       "      <td>25334</td>\n",
       "      <td>25334</td>\n",
       "      <td>25334</td>\n",
       "    </tr>\n",
       "    <tr>\n",
       "      <th>8019054</th>\n",
       "      <td>25156</td>\n",
       "      <td>25156</td>\n",
       "      <td>25156</td>\n",
       "      <td>25156</td>\n",
       "      <td>25156</td>\n",
       "      <td>25156</td>\n",
       "    </tr>\n",
       "    <tr>\n",
       "      <th>8019057</th>\n",
       "      <td>22728</td>\n",
       "      <td>22728</td>\n",
       "      <td>22728</td>\n",
       "      <td>22728</td>\n",
       "      <td>22728</td>\n",
       "      <td>22728</td>\n",
       "    </tr>\n",
       "    <tr>\n",
       "      <th>8019058</th>\n",
       "      <td>23158</td>\n",
       "      <td>23158</td>\n",
       "      <td>23158</td>\n",
       "      <td>23158</td>\n",
       "      <td>23158</td>\n",
       "      <td>23158</td>\n",
       "    </tr>\n",
       "    <tr>\n",
       "      <th>8089005</th>\n",
       "      <td>25811</td>\n",
       "      <td>25811</td>\n",
       "      <td>25811</td>\n",
       "      <td>25811</td>\n",
       "      <td>25811</td>\n",
       "      <td>25811</td>\n",
       "    </tr>\n",
       "    <tr>\n",
       "      <th>8125002</th>\n",
       "      <td>24996</td>\n",
       "      <td>24996</td>\n",
       "      <td>24996</td>\n",
       "      <td>24996</td>\n",
       "      <td>24996</td>\n",
       "      <td>24996</td>\n",
       "    </tr>\n",
       "    <tr>\n",
       "      <th>8169009</th>\n",
       "      <td>25315</td>\n",
       "      <td>25315</td>\n",
       "      <td>25315</td>\n",
       "      <td>25315</td>\n",
       "      <td>25315</td>\n",
       "      <td>25315</td>\n",
       "    </tr>\n",
       "    <tr>\n",
       "      <th>8194008</th>\n",
       "      <td>25371</td>\n",
       "      <td>25371</td>\n",
       "      <td>25371</td>\n",
       "      <td>25371</td>\n",
       "      <td>25371</td>\n",
       "      <td>25371</td>\n",
       "    </tr>\n",
       "    <tr>\n",
       "      <th>8205002</th>\n",
       "      <td>25118</td>\n",
       "      <td>25118</td>\n",
       "      <td>25118</td>\n",
       "      <td>25118</td>\n",
       "      <td>25118</td>\n",
       "      <td>25118</td>\n",
       "    </tr>\n",
       "    <tr>\n",
       "      <th>8263001</th>\n",
       "      <td>25184</td>\n",
       "      <td>25184</td>\n",
       "      <td>25184</td>\n",
       "      <td>25184</td>\n",
       "      <td>25184</td>\n",
       "      <td>25184</td>\n",
       "    </tr>\n",
       "    <tr>\n",
       "      <th>8301004</th>\n",
       "      <td>25609</td>\n",
       "      <td>25609</td>\n",
       "      <td>25609</td>\n",
       "      <td>25609</td>\n",
       "      <td>25609</td>\n",
       "      <td>25609</td>\n",
       "    </tr>\n",
       "  </tbody>\n",
       "</table>\n",
       "</div>"
      ],
      "text/plain": [
       "CONTAMINANT  NOM ESTACIO  FECHA    DIA  TIPO_DIA    NO2     O3\n",
       "CODI EOI                                                      \n",
       "8015021            25597  25597  25597     25597  25597  25597\n",
       "8019043            25092  25092  25092     25092  25092  25092\n",
       "8019044            25567  25567  25567     25567  25567  25567\n",
       "8019050            25334  25334  25334     25334  25334  25334\n",
       "8019054            25156  25156  25156     25156  25156  25156\n",
       "8019057            22728  22728  22728     22728  22728  22728\n",
       "8019058            23158  23158  23158     23158  23158  23158\n",
       "8089005            25811  25811  25811     25811  25811  25811\n",
       "8125002            24996  24996  24996     24996  24996  24996\n",
       "8169009            25315  25315  25315     25315  25315  25315\n",
       "8194008            25371  25371  25371     25371  25371  25371\n",
       "8205002            25118  25118  25118     25118  25118  25118\n",
       "8263001            25184  25184  25184     25184  25184  25184\n",
       "8301004            25609  25609  25609     25609  25609  25609"
      ]
     },
     "execution_count": 40,
     "metadata": {},
     "output_type": "execute_result"
    }
   ],
   "source": [
    "df.groupby('CODI EOI').count()"
   ]
  },
  {
   "cell_type": "markdown",
   "metadata": {},
   "source": [
    "# Guardado:"
   ]
  },
  {
   "cell_type": "code",
   "execution_count": 41,
   "metadata": {
    "ExecuteTime": {
     "end_time": "2021-05-31T21:06:24.832484Z",
     "start_time": "2021-05-31T21:06:24.812701Z"
    }
   },
   "outputs": [],
   "source": [
    "#no2.to_csv('../Datos/Datos_Procesados/Mediciones_AMB_NO2.csv',index=None)\n",
    "#o3.to_csv('../Datos/Datos_Procesados/Mediciones_AMB_O3.csv',index=None)"
   ]
  },
  {
   "cell_type": "code",
   "execution_count": 42,
   "metadata": {
    "ExecuteTime": {
     "end_time": "2021-05-31T21:06:26.378480Z",
     "start_time": "2021-05-31T21:06:24.832484Z"
    }
   },
   "outputs": [],
   "source": [
    "df.to_csv('../Datos/Datos_Procesados/Mediciones_AMB_NO2_O3.csv',index=None)"
   ]
  }
 ],
 "metadata": {
  "kernelspec": {
   "display_name": "Python 3",
   "language": "python",
   "name": "python3"
  },
  "language_info": {
   "codemirror_mode": {
    "name": "ipython",
    "version": 3
   },
   "file_extension": ".py",
   "mimetype": "text/x-python",
   "name": "python",
   "nbconvert_exporter": "python",
   "pygments_lexer": "ipython3",
   "version": "3.9.4"
  },
  "toc": {
   "base_numbering": 1,
   "nav_menu": {},
   "number_sections": true,
   "sideBar": true,
   "skip_h1_title": false,
   "title_cell": "Table of Contents",
   "title_sidebar": "Contents",
   "toc_cell": false,
   "toc_position": {
    "height": "calc(100% - 180px)",
    "left": "10px",
    "top": "150px",
    "width": "384px"
   },
   "toc_section_display": true,
   "toc_window_display": true
  }
 },
 "nbformat": 4,
 "nbformat_minor": 4
}
